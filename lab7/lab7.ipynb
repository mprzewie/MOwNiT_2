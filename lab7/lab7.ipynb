{
 "cells": [
  {
   "cell_type": "markdown",
   "metadata": {},
   "source": [
    "Zadania:\n",
    "1. Zamień sygnał na sumę sygnałów np\n",
    "```julia\n",
    "x = sin.(2*pi*t*200) + 2* sin.(2*pi*t*400) \n",
    "```\n",
    "  Zaobserwuj wynik transformaty.\n",
    "<p>\n",
    "    "
   ]
  },
  {
   "cell_type": "code",
   "execution_count": null,
   "metadata": {},
   "outputs": [],
   "source": [
    "using Plots\n",
    "\n",
    "Fs = 1024;  \n",
    "\n",
    "t = 0:1/Fs:10; \n",
    "\n",
    "x= sin.(2*pi*t*200) + 2* sin.(2*pi*t*400)\n",
    "\n",
    "plot(t,x)"
   ]
  },
  {
   "cell_type": "code",
   "execution_count": null,
   "metadata": {},
   "outputs": [],
   "source": [
    "sticks(abs.(fft(x)))"
   ]
  },
  {
   "cell_type": "markdown",
   "metadata": {},
   "source": [
    "2.  Usuwanie szumów:\n",
    "\n",
    "    1. Wypełniamy tablicę wartościami funkcji cosinus (\"sygnału\") zaburzonej niewielkim \"szumem\" np. dodając do każdej wartości wylosowaną liczbę funkcją rand().\n",
    "    "
   ]
  },
  {
   "cell_type": "code",
   "execution_count": null,
   "metadata": {},
   "outputs": [],
   "source": [
    "Fs = 500;  \n",
    "\n",
    "t = 0:1/Fs:1; \n",
    "\n",
    "x= cos.(2*pi*t*3) + rand()"
   ]
  },
  {
   "cell_type": "markdown",
   "metadata": {},
   "source": [
    "    2. Prosze narysować wykres zaszumionej funkcji."
   ]
  },
  {
   "cell_type": "code",
   "execution_count": null,
   "metadata": {},
   "outputs": [],
   "source": [
    "plot(t,x)"
   ]
  },
  {
   "cell_type": "markdown",
   "metadata": {},
   "source": [
    "    3. Narysować wykres transformaty Fouriera (widmo)  tego sygnału (jak poprzednio)."
   ]
  },
  {
   "cell_type": "code",
   "execution_count": null,
   "metadata": {},
   "outputs": [],
   "source": [
    "fourier = abs.(fft(x))\n",
    "sticks(fourier)"
   ]
  },
  {
   "cell_type": "markdown",
   "metadata": {},
   "source": [
    "    4. Po transformacie wyzerowac w widmie wszystkie elementy, których wartość bezwzględna jest mniejsza niz 50. W ten sposób usuwamy \"szumy\" z sygnału.    "
   ]
  },
  {
   "cell_type": "code",
   "execution_count": null,
   "metadata": {},
   "outputs": [],
   "source": [
    "clean_fourier = Array{Float64}(length(fourier))\n",
    "\n",
    "for i=1:length(fourier)\n",
    "    if fourier[i] > 50\n",
    "        clean_fourier[i] = fourier[i]\n",
    "    else\n",
    "        clean_fourier[i] = 0\n",
    "    end\n",
    "end\n",
    "sticks(clean_fourier)"
   ]
  },
  {
   "cell_type": "markdown",
   "metadata": {},
   "source": [
    "    5.Przeprowadzić odwrotną transformatę funkcją ifft(). Narysować wykres otrzymanej funkcji dla częsci  rzeczywistej. Porównać z wejściowym wykresem sygnału."
   ]
  },
  {
   "cell_type": "code",
   "execution_count": null,
   "metadata": {},
   "outputs": [],
   "source": [
    "re_fourier = real.(ifft(clean_fourier))\n",
    "plot(t, [re_fourier, x, (re_fourier -x)])"
   ]
  },
  {
   "cell_type": "code",
   "execution_count": null,
   "metadata": {},
   "outputs": [],
   "source": [
    "plot(t, (re_fourier - x), )"
   ]
  },
  {
   "cell_type": "markdown",
   "metadata": {},
   "source": [
    "3. Proszę nagrać własny glos i zastosować na nim trasformatę Fouriera, narysować wykres widma. Następnie poeksperymentować (wyciąć wybrane częstotliwości), dokonać odwrotnej transformaty i odsłuchać efekt.\n",
    "<p>\n",
    "Przydatne materiały:\n",
    "     1. <a href=\"http://samcarcagno.altervista.org/blog/basic-sound-processing-julia/\"> Basic sound processing</a>\n",
    "     2. <a href=\"https://github.com/dancasimiro/WAV.jl\"> Pakiet Wav </a>"
   ]
  },
  {
   "cell_type": "code",
   "execution_count": null,
   "metadata": {},
   "outputs": [],
   "source": [
    "using WAV, PlotlyJS"
   ]
  },
  {
   "cell_type": "code",
   "execution_count": null,
   "metadata": {},
   "outputs": [],
   "source": [
    "snd, freq = wavread(\"inwok.wav\")\n",
    "snd_len = size(snd)[1]\n",
    "size(snd), freq"
   ]
  },
  {
   "cell_type": "code",
   "execution_count": null,
   "metadata": {},
   "outputs": [],
   "source": [
    "s1 = snd[:,1]\n",
    "time_array = ((0:(snd_len - 1)) / freq) * 1000"
   ]
  },
  {
   "cell_type": "code",
   "execution_count": null,
   "metadata": {},
   "outputs": [],
   "source": []
  },
  {
   "cell_type": "code",
   "execution_count": null,
   "metadata": {},
   "outputs": [],
   "source": []
  }
 ],
 "metadata": {
  "kernelspec": {
   "display_name": "Julia 0.6.0",
   "language": "julia",
   "name": "julia-0.6"
  },
  "language_info": {
   "file_extension": ".jl",
   "mimetype": "application/julia",
   "name": "julia",
   "version": "0.6.0"
  }
 },
 "nbformat": 4,
 "nbformat_minor": 2
}
