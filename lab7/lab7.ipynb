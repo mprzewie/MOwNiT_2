{
 "cells": [
  {
   "cell_type": "markdown",
   "metadata": {},
   "source": [
    "Zadania:\n",
    "1. Zamień sygnał na sumę sygnałów np\n",
    "```julia\n",
    "x = sin.(2*pi*t*200) + 2* sin.(2*pi*t*400) \n",
    "```\n",
    "  Zaobserwuj wynik transformaty.\n",
    "<p>\n",
    "    "
   ]
  },
  {
   "cell_type": "code",
   "execution_count": null,
   "metadata": {},
   "outputs": [],
   "source": [
    "using Plots\n",
    "\n",
    "Fs = 1024;  \n",
    "\n",
    "t = 0:1/Fs:10; \n",
    "\n",
    "x= sin.(2*pi*t*10) + 2* sin.(2*pi*t*1)\n",
    "\n",
    "plot(t,x)"
   ]
  },
  {
   "cell_type": "code",
   "execution_count": null,
   "metadata": {},
   "outputs": [],
   "source": [
    "sticks(abs.(fft(x)))"
   ]
  },
  {
   "cell_type": "markdown",
   "metadata": {},
   "source": [
    "2.  Usuwanie szumów:\n",
    "\n",
    "    1. Wypełniamy tablicę wartościami funkcji cosinus (\"sygnału\") zaburzonej niewielkim \"szumem\" np. dodając do każdej wartości wylosowaną liczbę funkcją rand().\n",
    "    "
   ]
  },
  {
   "cell_type": "code",
   "execution_count": null,
   "metadata": {},
   "outputs": [],
   "source": [
    "Fs = 500;  \n",
    "\n",
    "t = 0:1/Fs:1; \n",
    "\n",
    "x= [cos(2*pi*time*3) + rand() for time in t]"
   ]
  },
  {
   "cell_type": "markdown",
   "metadata": {},
   "source": [
    "    2. Prosze narysować wykres zaszumionej funkcji."
   ]
  },
  {
   "cell_type": "code",
   "execution_count": null,
   "metadata": {},
   "outputs": [],
   "source": [
    "plot(t,x)"
   ]
  },
  {
   "cell_type": "markdown",
   "metadata": {},
   "source": [
    "    3. Narysować wykres transformaty Fouriera (widmo)  tego sygnału (jak poprzednio)."
   ]
  },
  {
   "cell_type": "code",
   "execution_count": null,
   "metadata": {},
   "outputs": [],
   "source": [
    "fourier = abs.(fft(x))\n",
    "sticks(fourier)"
   ]
  },
  {
   "cell_type": "markdown",
   "metadata": {},
   "source": [
    "    4. Po transformacie wyzerowac w widmie wszystkie elementy, których wartość bezwzględna jest mniejsza niz 50. W ten sposób usuwamy \"szumy\" z sygnału.    "
   ]
  },
  {
   "cell_type": "code",
   "execution_count": null,
   "metadata": {},
   "outputs": [],
   "source": [
    "function clean_fourier(fourier, min=0, max=50, null_ranges=[])\n",
    "    result = Array{Float64}(length(fourier))\n",
    "\n",
    "    for i=1:length(fourier)\n",
    "        if abs(real(fourier[i])) < max && abs(real(fourier[i])) > min\n",
    "            result[i] = real(fourier[i])\n",
    "        else\n",
    "            result[i] = 0\n",
    "        end\n",
    "    end\n",
    "    \n",
    "    for i=1:length(null_ranges)\n",
    "        for j=null_ranges[i]\n",
    "            result[j] = 0\n",
    "        end\n",
    "    end\n",
    "result\n",
    "end\n"
   ]
  },
  {
   "cell_type": "markdown",
   "metadata": {},
   "source": [
    "    5.Przeprowadzić odwrotną transformatę funkcją ifft(). Narysować wykres otrzymanej funkcji dla częsci  rzeczywistej. Porównać z wejściowym wykresem sygnału."
   ]
  },
  {
   "cell_type": "code",
   "execution_count": null,
   "metadata": {},
   "outputs": [],
   "source": [
    "c_f = clean_fourier(fourier, 50, 100000)\n",
    "re_fourier = real.(ifft(c_f))\n",
    "plot(t, re_fourier)#, x ])#, (re_fourier -x)])"
   ]
  },
  {
   "cell_type": "code",
   "execution_count": null,
   "metadata": {},
   "outputs": [],
   "source": [
    "plot(t, (re_fourier - x), )"
   ]
  },
  {
   "cell_type": "markdown",
   "metadata": {},
   "source": [
    "3. Proszę nagrać własny glos i zastosować na nim trasformatę Fouriera, narysować wykres widma. Następnie poeksperymentować (wyciąć wybrane częstotliwości), dokonać odwrotnej transformaty i odsłuchać efekt.\n",
    "<p>\n",
    "Przydatne materiały:\n",
    "     1. <a href=\"http://samcarcagno.altervista.org/blog/basic-sound-processing-julia/\"> Basic sound processing</a>\n",
    "     2. <a href=\"https://github.com/dancasimiro/WAV.jl\"> Pakiet Wav </a>"
   ]
  },
  {
   "cell_type": "code",
   "execution_count": null,
   "metadata": {},
   "outputs": [],
   "source": [
    "using WAV, Plots"
   ]
  },
  {
   "cell_type": "code",
   "execution_count": null,
   "metadata": {},
   "outputs": [],
   "source": [
    "snd_src = \"last.wav\""
   ]
  },
  {
   "cell_type": "code",
   "execution_count": null,
   "metadata": {},
   "outputs": [],
   "source": [
    "snd, freq = wavread(snd_src)\n",
    "snd_len = size(snd)[1]\n",
    "size(snd), freq"
   ]
  },
  {
   "cell_type": "code",
   "execution_count": null,
   "metadata": {},
   "outputs": [],
   "source": [
    "s1 = snd[:,1]\n",
    "s2 = snd[:, 2]\n",
    "time_array = ((0:(snd_len - 1)) / freq) * 1000"
   ]
  },
  {
   "cell_type": "code",
   "execution_count": null,
   "metadata": {},
   "outputs": [],
   "source": [
    "plot(time_array,s1)"
   ]
  },
  {
   "cell_type": "code",
   "execution_count": null,
   "metadata": {},
   "outputs": [],
   "source": [
    "min = 0\n",
    "max = 1000\n",
    "# null_ranges = [1:8000, 20000:22000] \n",
    "null_ranges = [1:8000, 27000:55000,100000:200000, 500000:810000]"
   ]
  },
  {
   "cell_type": "code",
   "execution_count": null,
   "metadata": {},
   "outputs": [],
   "source": [
    "f1 = fft(s1)\n",
    "f2 = fft(s2)\n",
    "c_f1 = clean_fourier(f1, min, max, null_ranges)\n",
    "r_f1 = real.(ifft(c_f1))\n",
    "print(size(f1), size(r_f1))\n",
    "c_f2 = clean_fourier(f2, min, max, null_ranges)\n",
    "r_f2 = real.(ifft(c_f2))\n",
    "print(size(f2), size(r_f2))\n",
    "clean_samples = hcat(r_f1, r_f2)\n",
    "wavwrite(clean_samples, \"clean.wav\", Fs=freq, nbits=64)\n",
    "run(`play clean.wav`)"
   ]
  },
  {
   "cell_type": "code",
   "execution_count": null,
   "metadata": {},
   "outputs": [],
   "source": [
    "sticks(abs.(f1))"
   ]
  },
  {
   "cell_type": "code",
   "execution_count": null,
   "metadata": {},
   "outputs": [],
   "source": [
    "# sticks(abs.(f2))\n",
    "# plot(time_array, r_f1)\n",
    "# sticks(c_f2)\n",
    "# plot(time_array, r_f2)\n",
    "sticks(c_f1)"
   ]
  }
 ],
 "metadata": {
  "kernelspec": {
   "display_name": "Julia 0.6.0",
   "language": "julia",
   "name": "julia-0.6"
  },
  "language_info": {
   "file_extension": ".jl",
   "mimetype": "application/julia",
   "name": "julia",
   "version": "0.6.0"
  }
 },
 "nbformat": 4,
 "nbformat_minor": 2
}
