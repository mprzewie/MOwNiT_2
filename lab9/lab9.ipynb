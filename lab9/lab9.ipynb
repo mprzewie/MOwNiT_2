{
 "cells": [
  {
   "cell_type": "code",
   "execution_count": null,
   "metadata": {},
   "outputs": [],
   "source": [
    "import numpy as np\n",
    "import matplotlib.pyplot as plt\n",
    "from ipywidgets import interact, fixed\n",
    "import ipywidgets as widgets"
   ]
  },
  {
   "cell_type": "markdown",
   "metadata": {},
   "source": [
    "Zasymuluj wahadlo matematyczne rozwiazując numerycznie rownanie różniczkowe je opisujace\n",
    "(rownież dla dużych wychyleń). \n",
    "\n",
    "$$\n",
    "\\frac{d^2x}{dt^2} + \\frac{g}{l} sin(x) = 0\n",
    "$$"
   ]
  },
  {
   "cell_type": "code",
   "execution_count": null,
   "metadata": {},
   "outputs": [],
   "source": [
    "g = 9.81\n",
    "l = 1"
   ]
  },
  {
   "cell_type": "code",
   "execution_count": null,
   "metadata": {},
   "outputs": [],
   "source": [
    "def pendulum(initial_theta, time, initial_omega=0, time_step=0.01, g=g, l=l):\n",
    "    theta = initial_theta\n",
    "    omega = initial_omega\n",
    "    t = 0\n",
    "    while(t < time):\n",
    "        a = -(g / l) * np.sin(theta)\n",
    "        omega += a * time_step\n",
    "        theta += omega * time_step + a * (time_step ** 2) /2\n",
    "        t += time_step\n",
    "    return theta"
   ]
  },
  {
   "cell_type": "code",
   "execution_count": null,
   "metadata": {},
   "outputs": [],
   "source": [
    "omega = 1 / np.sqrt(l /g) # = 2*Pi / T (where T = 2*Pi sqrt(l/g))\n",
    "step = 0.001\n",
    "T = np.arange(0,30,0.1)\n",
    "Theta = np.array([pendulum(np.pi / 16, t, time_step=step) for t in T])\n",
    "actual_theta = np.cos(omega * T)\n",
    "plt.plot(T, Theta)\n",
    "plt.plot(T, actual_theta)\n",
    "plt.show()"
   ]
  },
  {
   "cell_type": "code",
   "execution_count": null,
   "metadata": {},
   "outputs": [],
   "source": [
    "def demonstrate_pendulum(initial_theta, time, initial_omega=0, time_step_magn=-2, g=9.8, l=1):\n",
    "    time_step = 10**time_step_magn\n",
    "    theta = pendulum(initial_theta, time, initial_omega, time_step, g)\n",
    "    x = np.sin(theta)\n",
    "    y = - np.sqrt(l**2 - x**2)\n",
    "    line_x = np.linspace(x,0)\n",
    "    line_y = np.linspace(y,0)\n",
    "    plt.scatter(x,y)\n",
    "    plt.plot(line_x, line_y, color='black')\n",
    "    plt.scatter([0],[0])\n",
    "    plt.axis((-1, 1, -2, 0.5))\n",
    "    \n",
    "    plt.show()\n",
    "    "
   ]
  },
  {
   "cell_type": "code",
   "execution_count": null,
   "metadata": {},
   "outputs": [],
   "source": [
    "interact(demonstrate_pendulum, \n",
    "         time=widgets.FloatSlider(min=0, max=1000, value=0, step=0.01), \n",
    "         initial_theta=widgets.FloatSlider(min=0, max=2*np.pi, value=np.pi/4, step=0.01),\n",
    "        time_step_magn=widgets.IntSlider(min=-5, max=5, value=-2)\n",
    "        )"
   ]
  },
  {
   "cell_type": "markdown",
   "metadata": {},
   "source": [
    "Zasymuluj układ grawitacyjny : gwiazda i przylatujace cialo niebieskie z pewna (zadawana\n",
    "przez uzytkownika) prędkością poczatkową."
   ]
  },
  {
   "cell_type": "markdown",
   "metadata": {},
   "source": [
    "$$\n",
    "g = G\\frac{M}{r^2}\n",
    "$$"
   ]
  },
  {
   "cell_type": "code",
   "execution_count": null,
   "metadata": {},
   "outputs": [],
   "source": [
    "@np.vectorize\n",
    "def g(r, G=1, M=1, r_max=1):\n",
    "    return (G * M) / r**2 if r > r_max else ((G * M) / r_max**2) * (r / r_max)\n",
    "\n"
   ]
  },
  {
   "cell_type": "code",
   "execution_count": null,
   "metadata": {},
   "outputs": [],
   "source": [
    "def gravity(time, initial_pos, M=0, initial_v=0, time_step=0.1, r_max=1):\n",
    "    t = 0\n",
    "    x = initial_pos\n",
    "    v = initial_v\n",
    "    r = np.abs(x)\n",
    "    a = - g(r, M=M, r_max=r_max) * (x / r)\n",
    "    X = [x]\n",
    "    while(t < time):\n",
    "        r = np.abs(x)\n",
    "        a = - g(r, M=M, r_max=r_max) * (x / r)\n",
    "        v += a * time_step\n",
    "        x += v * time_step + a * ((time_step ** 2) / 2)\n",
    "        t += time_step\n",
    "        X.append(x)\n",
    "    return np.array(X), v, a"
   ]
  },
  {
   "cell_type": "code",
   "execution_count": null,
   "metadata": {},
   "outputs": [],
   "source": [
    "def demonstrate_gravity(time, in_x, in_y, in_vx, in_vy, time_step_magn, M, r_max):\n",
    "    pos = in_x + in_y * 1j\n",
    "    v = in_vx + in_vy * 1j\n",
    "    time_step = 10**time_step_magn\n",
    "    pos, v, a = gravity(time, pos, initial_v=v, M=M, r_max=r_max)\n",
    "\n",
    "    X = np.real(pos)\n",
    "    Y = np.imag(pos)\n",
    "    x = X[-1]\n",
    "    y = Y[-1]\n",
    "    line_x = np.linspace(x,0)\n",
    "    line_y = np.linspace(y,0)\n",
    "    v_x = np.real(v)\n",
    "    v_y = np.imag(v)\n",
    "    line_v_x = np.linspace(x, x + v_x)\n",
    "    line_v_y = np.linspace(y, y + v_y)\n",
    "    a_x = np.real(a)\n",
    "    a_y = np.imag(a)\n",
    "    line_a_x = np.linspace(x, x + a_x)\n",
    "    line_a_y = np.linspace(y, y + a_y)\n",
    "    \n",
    "    print(x, y)\n",
    "    print(v) \n",
    "    print(a) \n",
    "    ax=plt.gca()\n",
    "    ax.add_patch(plt.Circle((0,0), r_max, color='r', fill=False))    \n",
    "    plt.scatter([0],[0], color='red')\n",
    "\n",
    "    plt.scatter(x,y, color='blue')\n",
    "    plt.plot(X, Y, color='blue')\n",
    "    plt.plot(line_v_x, line_v_y, color='green')\n",
    "    plt.scatter([x + v_x], [y + v_y], color='green', marker='^')\n",
    "    plt.plot(line_a_x, line_a_y, color='purple')\n",
    "    plt.scatter([x + a_x], [y + a_y], color='purple', marker='^')\n",
    "    \n",
    "    plt.axis((-5, 5, -5, 5))\n",
    "    \n",
    "    plt.show()\n",
    "    "
   ]
  },
  {
   "cell_type": "code",
   "execution_count": null,
   "metadata": {},
   "outputs": [],
   "source": [
    "interact(demonstrate_gravity, \n",
    "         time=widgets.FloatSlider(min=0, max=1000, value=0, step=0.1), \n",
    "        time_step_magn=widgets.IntSlider(min=-5, max=5, value=-3),\n",
    "         in_x=widgets.FloatSlider(min=-5, max=5, value=2, step=0.1), \n",
    "         in_y=widgets.FloatSlider(min=-5, max=5, value=2, step=0.1), \n",
    "         in_vx=widgets.FloatSlider(min=-5, max=5, value=-0.5, step=0.1), \n",
    "         in_vy=widgets.FloatSlider(min=-5, max=5, value=0.5, step=0.1),\n",
    "         M=widgets.FloatSlider(min=0, max=10, value=1, step=0.1),\n",
    "         r_max=widgets.FloatSlider(min=0, max=2, value=1, step=0.1)\n",
    "        )"
   ]
  },
  {
   "cell_type": "code",
   "execution_count": null,
   "metadata": {},
   "outputs": [],
   "source": [
    "plt.Circle((0,0), 1, color='r')    \n",
    "plt.show()\n"
   ]
  },
  {
   "cell_type": "code",
   "execution_count": null,
   "metadata": {},
   "outputs": [],
   "source": []
  }
 ],
 "metadata": {
  "kernelspec": {
   "display_name": "Python 3",
   "language": "python",
   "name": "python3"
  },
  "language_info": {
   "codemirror_mode": {
    "name": "ipython",
    "version": 3
   },
   "file_extension": ".py",
   "mimetype": "text/x-python",
   "name": "python",
   "nbconvert_exporter": "python",
   "pygments_lexer": "ipython3",
   "version": "3.6.2"
  }
 },
 "nbformat": 4,
 "nbformat_minor": 2
}
