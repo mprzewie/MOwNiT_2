{
 "cells": [
  {
   "cell_type": "code",
   "execution_count": 293,
   "metadata": {},
   "outputs": [],
   "source": [
    "import numpy as np\n",
    "import matplotlib.pyplot as plt\n",
    "\n",
    "%matplotlib inline"
   ]
  },
  {
   "cell_type": "code",
   "execution_count": 197,
   "metadata": {},
   "outputs": [],
   "source": [
    "class compl:\n",
    "    def __init__(self, re, im):\n",
    "        self.re = re\n",
    "        self.im = im"
   ]
  },
  {
   "cell_type": "code",
   "execution_count": 267,
   "metadata": {},
   "outputs": [
    {
     "name": "stdout",
     "output_type": "stream",
     "text": [
      "[[   9.  192.  153.]\n",
      " [ 228.  138.   25.]\n",
      " [ 181.   99.  203.]\n",
      " [  35.    5.  186.]\n",
      " [  37.   84.  136.]\n",
      " [ 249.  252.  232.]]\n"
     ]
    },
    {
     "data": {
      "image/png": "[encoded data removed]",
      "text/plain": [
       "<matplotlib.figure.Figure at 0x7faaff266668>"
      ]
     },
     "metadata": {},
     "output_type": "display_data"
    }
   ],
   "source": [
    "n_colors = 6\n",
    "\n",
    "colors = (np.random.rand(n_colors, 3) * 255).round()\n",
    "\n",
    "print(colors)\n",
    "\n",
    "plt.imshow(np.array([colors]))\n",
    "plt.show()"
   ]
  },
  {
   "cell_type": "code",
   "execution_count": 290,
   "metadata": {},
   "outputs": [],
   "source": [
    "W_size = (100, 100)\n",
    "roots_range = 1\n",
    "x = np.linspace(-roots_range*2, roots_range*2, W_size[0], 400)\n",
    "y = np.linspace(-roots_range*2, roots_range*2, W_size[1], 400)\n",
    "def W(i, j):\n",
    "    return x[i] + y[j]*1j"
   ]
  },
  {
   "cell_type": "code",
   "execution_count": 284,
   "metadata": {},
   "outputs": [
    {
     "data": {
      "text/plain": [
       "array([-1.-0.06829644j, -1.-0.02849704j, -1.-0.88090129j, -1.-0.11821586j,\n",
       "       -1.-0.91854043j])"
      ]
     },
     "execution_count": 284,
     "metadata": {},
     "output_type": "execute_result"
    }
   ],
   "source": [
    "n_roots = n_colors - 1\n",
    "\n",
    "roots = ((np.random.rand(n_roots) * np.random.rand(n_roots) * 1j)- ((1 + 1j) / 2) ) * roots_range * 2\n",
    "roots"
   ]
  },
  {
   "cell_type": "code",
   "execution_count": 285,
   "metadata": {},
   "outputs": [
    {
     "name": "stderr",
     "output_type": "stream",
     "text": [
      "/home/marcin/.anaconda2/envs/py36/lib/python3.6/site-packages/numpy/core/numeric.py:531: ComplexWarning: Casting complex values to real discards the imaginary part\n",
      "  return array(a, dtype, copy=False, order=order)\n"
     ]
    },
    {
     "data": {
      "image/png": "[encoded data removed]",
      "text/plain": [
       "<matplotlib.figure.Figure at 0x7faafee8fe80>"
      ]
     },
     "metadata": {},
     "output_type": "display_data"
    }
   ],
   "source": [
    "def p(c):\n",
    "    return (c - roots).prod()\n",
    "\n",
    "def p_prim(c):\n",
    "    coeff = (c - roots)\n",
    "    result = 0\n",
    "    for i in range(len(roots)):\n",
    "        elem = 1\n",
    "        for j in range(len(roots)): \n",
    "            if j!=i:\n",
    "                elem *= coeff[j]\n",
    "        result += elem\n",
    "    return result\n",
    "\n",
    "\n",
    "X = np.linspace(-roots_range*5, roots_range*5)\n",
    "plt.plot(X, [p(c) for c in X], color='r')\n",
    "plt.plot(X, [p_prim(c) for c in X])\n",
    "plt.show()"
   ]
  },
  {
   "cell_type": "code",
   "execution_count": 286,
   "metadata": {},
   "outputs": [],
   "source": [
    "@np.vectorize\n",
    "def new_z(z):\n",
    "    return z - (p(z) / p_prim(z))"
   ]
  },
  {
   "cell_type": "code",
   "execution_count": 287,
   "metadata": {},
   "outputs": [],
   "source": [
    "e = 0.1\n",
    "\n",
    "def match_colors(z, epsilon=e):\n",
    "    diffs = np.abs(z - roots)\n",
    "    color_no = np.argmin(diffs)\n",
    "    if (z - roots[color_no]) < epsilon:\n",
    "        return colors[color_no]\n",
    "    return colors[n_colors - 1]\n"
   ]
  },
  {
   "cell_type": "code",
   "execution_count": 291,
   "metadata": {},
   "outputs": [],
   "source": [
    "iterations = 150\n",
    "\n",
    "new_W = np.array([[W(i, j) for j in range(W_size[1])] for i in range(W_size[0])])\n",
    "for i in range(iterations):\n",
    "    new_W = new_z(new_W)\n",
    "    "
   ]
  },
  {
   "cell_type": "code",
   "execution_count": 294,
   "metadata": {},
   "outputs": [
    {
     "data": {
      "image/png": "[encoded data removed]",
      "text/plain": [
       "<matplotlib.figure.Figure at 0x7faaff236278>"
      ]
     },
     "metadata": {},
     "output_type": "display_data"
    }
   ],
   "source": [
    "img = np.array([\n",
    "       [\n",
    "           match_colors(v) for v in row\n",
    "       ] \n",
    "    for row in new_W\n",
    "])\n",
    "\n",
    "plt.imshow(img)\n",
    "plt.show()"
   ]
  }
 ],
 "metadata": {
  "kernelspec": {
   "display_name": "Python 3",
   "language": "python",
   "name": "python3"
  },
  "language_info": {
   "codemirror_mode": {
    "name": "ipython",
    "version": 3
   },
   "file_extension": ".py",
   "mimetype": "text/x-python",
   "name": "python",
   "nbconvert_exporter": "python",
   "pygments_lexer": "ipython3",
   "version": "3.6.2"
  }
 },
 "nbformat": 4,
 "nbformat_minor": 2
}
