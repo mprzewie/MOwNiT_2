{
 "cells": [
  {
   "cell_type": "code",
   "execution_count": null,
   "metadata": {},
   "outputs": [],
   "source": [
    "using Roots\n",
    "using Plots"
   ]
  },
  {
   "cell_type": "markdown",
   "metadata": {},
   "source": [
    "### Zadanie:\n",
    "\n",
    "A. Wybrać trzy metody poszukiwania pierwiastków: \n",
    "\n",
    "* wykorzystującą przedział, (*bisekcja, fzero*)"
   ]
  },
  {
   "cell_type": "code",
   "execution_count": null,
   "metadata": {},
   "outputs": [],
   "source": [
    "function root_section(f, min=-10, max=10, verbose=true)\n",
    "    fzero(f, x0=0.5, min, max, verbose=verbose)\n",
    "end"
   ]
  },
  {
   "cell_type": "markdown",
   "metadata": {},
   "source": [
    "* wykorzystującą pochodną, (*newton*)"
   ]
  },
  {
   "cell_type": "code",
   "execution_count": null,
   "metadata": {},
   "outputs": [],
   "source": [
    "function root_derivative(f, start_point=10, verbose=true)\n",
    "    newton(f, start_point, verbose=verbose)\n",
    "end"
   ]
  },
  {
   "cell_type": "markdown",
   "metadata": {},
   "source": [
    "* wykorzystującą punkt startowy i przybliżenie pochodnej (*fzero, 2 rzędu*)"
   ]
  },
  {
   "cell_type": "code",
   "execution_count": null,
   "metadata": {},
   "outputs": [],
   "source": [
    "function root_start_point(f, start_point=10, verbose=true)\n",
    "    fzero(f, start_point, order=2, verbose=verbose) \n",
    "end"
   ]
  },
  {
   "cell_type": "markdown",
   "metadata": {},
   "source": [
    "1.Każdą z trzech wybranych metod przetestować (ilość iteracji, ilość wywołań funkcji) na sześciu wybranych  funkcjach ze zbioru http://people.sc.fsu.edu/~jburkardt/py_src/test_zero/test_zero.html "
   ]
  },
  {
   "cell_type": "code",
   "execution_count": null,
   "metadata": {},
   "outputs": [],
   "source": [
    "function f_1(x)\n",
    "    sin(x) - x/2\n",
    "end\n",
    "\n",
    "plot(f_1, -10, 10)"
   ]
  },
  {
   "cell_type": "code",
   "execution_count": null,
   "metadata": {},
   "outputs": [],
   "source": [
    "function f_2(x)\n",
    "    e^x - 100\n",
    "end\n",
    "\n",
    "plot(f_2, -10, 10)"
   ]
  },
  {
   "cell_type": "code",
   "execution_count": null,
   "metadata": {},
   "outputs": [],
   "source": [
    "# newton baffler\n",
    "function f_3(x)\n",
    "    fx = 0.0\n",
    "    if x < 6.0\n",
    "        fx = 0.75 * ( x - 6.25 ) - 0.3125\n",
    "    elseif x <= 6.50 \n",
    "        fx = 2.00 * ( x - 6.25 )\n",
    "    else\n",
    "        fx = 0.75 * ( x - 6.25 ) + 0.3125\n",
    "    end\n",
    "    fx\n",
    "end\n",
    "plot(f_3, -10, 10)"
   ]
  },
  {
   "cell_type": "code",
   "execution_count": null,
   "metadata": {},
   "outputs": [],
   "source": [
    "#flat stanley\n",
    "factor = 1000\n",
    "function f_4(x)\n",
    "    fx = 0\n",
    "    if x < 1\n",
    "        fx = - e^(log(factor) + log(abs(x - 1)) - (1 / (x - 1)^2))\n",
    "    elseif x > 1\n",
    "        fx = e^(log(factor) + log(abs(x - 1)) - (1 / (x - 1)^2))\n",
    "    end\n",
    "    fx\n",
    "end\n",
    "plot(f_4, -10, 10)     "
   ]
  },
  {
   "cell_type": "code",
   "execution_count": null,
   "metadata": {},
   "outputs": [],
   "source": [
    "# pathological function for Newton's method.\n",
    "function f_5(x)\n",
    "    fx = 0\n",
    "    if x < 0\n",
    "        - abs(x)^((1 / 3) * e^(-x^2))\n",
    "    elseif x > 0\n",
    "        abs(x)^((1 / 3) * e^(-x^2))\n",
    "    end\n",
    "end\n",
    "\n",
    "plot(f_5, -10, 10)     "
   ]
  },
  {
   "cell_type": "code",
   "execution_count": null,
   "metadata": {},
   "outputs": [],
   "source": [
    "# wallis function`\n",
    "function f_6(x)\n",
    "    x^3 - 2*x -5\n",
    "end\n",
    "\n",
    "plot(f_6, -10, 10)"
   ]
  },
  {
   "cell_type": "code",
   "execution_count": null,
   "metadata": {},
   "outputs": [],
   "source": [
    "root_finders = [root_section, root_derivative, root_start_point]\n",
    "functions = [f_1, f_2, f_3, f_4, f_5, f_6]\n"
   ]
  },
  {
   "cell_type": "code",
   "execution_count": null,
   "metadata": {},
   "outputs": [],
   "source": [
    "f_1(\n",
    "# root_section(f_1)\n",
    "root_derivative(f_1, 10)\n",
    "# root_start_point(f_1, 10)\n",
    "    )"
   ]
  },
  {
   "cell_type": "code",
   "execution_count": null,
   "metadata": {},
   "outputs": [],
   "source": [
    "f_2(\n",
    "# root_section(f_2)\n",
    "root_derivative(f_2)\n",
    "# root_start_point(f_2, 10)\n",
    "    )"
   ]
  },
  {
   "cell_type": "code",
   "execution_count": null,
   "metadata": {},
   "outputs": [],
   "source": [
    "f_3(\n",
    "    # root_section(f_3)\n",
    "root_derivative(f_3)\n",
    "# root_start_point(f_3)\n",
    "    )"
   ]
  },
  {
   "cell_type": "code",
   "execution_count": null,
   "metadata": {},
   "outputs": [],
   "source": [
    "f_4(\n",
    "    # root_section(f_4)\n",
    "root_derivative(f_4)\n",
    "# root_start_point(f_4)\n",
    "    )"
   ]
  },
  {
   "cell_type": "code",
   "execution_count": null,
   "metadata": {},
   "outputs": [],
   "source": [
    "f_5(\n",
    "    # root_section(f_5)\n",
    "root_derivative(f_5)\n",
    "# root_start_point(f_5)\n",
    "    )"
   ]
  },
  {
   "cell_type": "code",
   "execution_count": null,
   "metadata": {},
   "outputs": [],
   "source": [
    "f_6(\n",
    "    # root_section(f_6)\n",
    "root_derivative(f_6)\n",
    "# root_start_point(f_6)\n",
    "    )"
   ]
  },
  {
   "cell_type": "markdown",
   "metadata": {},
   "source": [
    "Wyniki przedstawić w formie tabelki. **Pamiętać o sprawdzeniu czy wynik jest poprawny poprzez obliczenie wartości funkcji dla znalezionego pierwiastka**`"
   ]
  },
  {
   "cell_type": "code",
   "execution_count": null,
   "metadata": {},
   "outputs": [],
   "source": [
    "using DataFrames\n",
    "\n",
    "results = readtable(\"results.csv\")\n",
    "# 0 means failure"
   ]
  },
  {
   "cell_type": "markdown",
   "metadata": {},
   "source": [
    "2.Zademonstrować wybrany, ciekawy przykład trudnej funkcji z p.1 i działania metod na niej."
   ]
  },
  {
   "cell_type": "code",
   "execution_count": null,
   "metadata": {},
   "outputs": [],
   "source": [
    "root_derivative(f_1, 9.5)"
   ]
  },
  {
   "cell_type": "markdown",
   "metadata": {},
   "source": [
    "3.Dla każdej z wybranych metod zademonstrować i wyjaśnić po jednym  przykładzie, dla którego nie działają (można na podstawie p.1 lub wymyślić własny)"
   ]
  },
  {
   "cell_type": "code",
   "execution_count": null,
   "metadata": {},
   "outputs": [],
   "source": [
    "# bisection\n",
    "s(x) = x^2\n",
    "root_section(s)\n",
    "\n",
    "# funkcja nie przecina osi Ox"
   ]
  },
  {
   "cell_type": "code",
   "execution_count": null,
   "metadata": {},
   "outputs": [],
   "source": [
    "# newton\n",
    "root_derivative(f_3)\n",
    "\n",
    "# pochodna funkcji blisko jej przradiecięcia z Ox jest delikatnie inna niż w pozostałych punktach \n",
    "# => metoda Newtona zawsze \"przestrzeliwuje\" miejsce przecięcia\n",
    "# pierwiastek zdostaje znajdywany gdy punkt początkowy będzie blisko zera"
   ]
  },
  {
   "cell_type": "code",
   "execution_count": null,
   "metadata": {},
   "outputs": [],
   "source": [
    "# derivative estimation\n",
    "root_start_point(f_3)\n",
    "\n",
    "#tak jak w punkcie 3"
   ]
  },
  {
   "cell_type": "code",
   "execution_count": null,
   "metadata": {},
   "outputs": [],
   "source": []
  }
 ],
 "metadata": {
  "kernelspec": {
   "display_name": "Julia 0.6.0",
   "language": "julia",
   "name": "julia-0.6"
  },
  "language_info": {
   "file_extension": ".jl",
   "mimetype": "application/julia",
   "name": "julia",
   "version": "0.6.0"
  }
 },
 "nbformat": 4,
 "nbformat_minor": 2
}
