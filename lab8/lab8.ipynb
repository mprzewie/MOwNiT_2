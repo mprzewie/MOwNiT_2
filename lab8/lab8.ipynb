{
 "cells": [
  {
   "cell_type": "code",
   "execution_count": null,
   "metadata": {},
   "outputs": [],
   "source": [
    "import numpy as np\n",
    "import matplotlib.pyplot as plt\n",
    "import ipywidgets as widgets\n",
    "import time\n",
    "import pandas as pd\n",
    "from ipywidgets import interact, fixed\n"
   ]
  },
  {
   "cell_type": "markdown",
   "metadata": {},
   "source": [
    "Napisać wlasna metode calkowania (np. metode prostokątow lub trapezow.)"
   ]
  },
  {
   "cell_type": "code",
   "execution_count": null,
   "metadata": {},
   "outputs": [],
   "source": [
    "def int_rectangle(f, fr, to, count):\n",
    "#     points = np.arange(fr, to, epsilon) \n",
    "    points = np.linspace(fr, to, count)\n",
    "    rect = f(points) * float((to - fr) / count )\n",
    "    return rect.sum()"
   ]
  },
  {
   "cell_type": "markdown",
   "metadata": {},
   "source": [
    "Wybrac dwie funkcje dla ktorych latwo wyliczyc wartosc całki analitycznie.\n",
    "gladka typu wielomian (np x^2)\n",
    "ciekawsza, zawierajaca osobliwosc (np sqrt(x))"
   ]
  },
  {
   "cell_type": "code",
   "execution_count": null,
   "metadata": {},
   "outputs": [],
   "source": [
    "def f(x):\n",
    "    return x ** 2\n",
    "\n",
    "def f_int(x):\n",
    "    return (1/3) * x **3\n",
    "\n",
    "def g(x):\n",
    "    return np.sqrt(x)\n",
    "\n",
    "def g_int(x):\n",
    "    return (2/3) * (x **(3/2))\n",
    "\n",
    "# def g(x):\n",
    "#     return np.abs(x)\n",
    "\n",
    "# @np.vectorize\n",
    "# def g_int(x):\n",
    "#     return x ** 2 /2 if x >=0 else -x**2 /2"
   ]
  },
  {
   "cell_type": "markdown",
   "metadata": {},
   "source": [
    "Narysowac wykresy tych funkcji.\n"
   ]
  },
  {
   "cell_type": "code",
   "execution_count": null,
   "metadata": {},
   "outputs": [],
   "source": [
    "start = 0\n",
    "# epsilon = 0.1\n",
    "count = 10\n",
    "X = np.linspace(start,5, 30)\n",
    "Y = f(X)\n",
    "Y_int = np.array([\n",
    "    int_rectangle(f, start, x, count) for x in X\n",
    "])\n",
    "Y_actual_int = f_int(X)\n",
    "plt.plot(X, Y, color='blue')\n",
    "plt.plot(X, Y_int, color='red')\n",
    "plt.plot(X, Y_actual_int, color='green')\n",
    "plt.show()"
   ]
  },
  {
   "cell_type": "code",
   "execution_count": null,
   "metadata": {},
   "outputs": [],
   "source": [
    "start = 0\n",
    "count = 100\n",
    "X = np.linspace(start,5, 30)\n",
    "Y = g(X)\n",
    "Y_int = np.array([\n",
    "    int_rectangle(g, start, x, count) for x in X\n",
    "])\n",
    "Y_actual_int = g_int(X)\n",
    "plt.plot(X, Y, color='blue')\n",
    "plt.plot(X, Y_int, color='red')\n",
    "plt.plot(X, Y_actual_int, color='green')\n",
    "plt.show()"
   ]
  },
  {
   "cell_type": "markdown",
   "metadata": {},
   "source": [
    "Dla w/w wybranych dwoch przykladow porównac metody całkowania w zadanym przedziale zawierajacym te osobliwosc (np. dla podanych przykladow [0,1]). Porownac uzyskane wyniki oraz ilosc potrzebnych podprzedziałów, aby uzyskać okresloną dokladność (blad) dla nastepujacych metod:"
   ]
  },
  {
   "cell_type": "markdown",
   "metadata": {},
   "source": [
    "własnej"
   ]
  },
  {
   "cell_type": "code",
   "execution_count": null,
   "metadata": {},
   "outputs": [],
   "source": [
    "def demonstrate_squares(count):\n",
    "    start = 0\n",
    "    X = np.linspace(start,5, 30)\n",
    "    Y = g(X)\n",
    "    Y_int = np.array([\n",
    "        int_rectangle(g, start, x, count) for x in X\n",
    "    ])\n",
    "    Y_actual_int = g_int(X)\n",
    "    plt.plot(X, Y, color='blue')\n",
    "    plt.plot(X, Y_int, color='red')\n",
    "    plt.plot(X, Y_actual_int, color='green')\n",
    "    plt.show()\n",
    "    print(count)\n",
    "    print(np.abs(((Y_int - Y_actual_int ** 2)).sum()))\n",
    "\n",
    "interact(demonstrate_squares, \n",
    "        count=widgets.IntSlider(min=1, max=1000, value=1))"
   ]
  },
  {
   "cell_type": "markdown",
   "metadata": {},
   "source": [
    "czterech metod z GSL: \n",
    "nieadaptacyjnej (gsl_integration_qng), \n",
    "adaptacyjnej (gsl_integration_qag), \n",
    "adaptacyjnej z osobliwosciami (gsl_integration_qags ) \n",
    "oraz adaptacyjnej ze znanymi osobliwosciami (gsl_integration_qagp)\n",
    "\n",
    "Metody dla funkcji oscylacyjnych z GSL. Porownac wyniki oraz ilosc podprzedziałów (dla zadanego błędu) dla całki funkcji a* cos(a*x) w przedziale [0..9/2*PI]. Zasady:\n",
    "Nalezy porównać funkcje z GSL: nieadaptacyjną (gsl_integration_qng), adaptacyjną (gsl_integration_qag) oraz dla funkcji oscylacyjnych (gsl_integration_qawo).\n",
    "Nalezy zacząć od a=1, policzyc całkę analitycznie, a nastepnie sprawdzić otrzymany wynik dla wszystkich sposobów, aby zweryfikować poprawność uzycia funkcji.\n",
    "zwiekszyc \"a\" i obserwowac zmiane potrzebnych ilosci wywołań funkcji (przedziałów). Narysowac wykres ilości potrzebnych przedziałów w zaleznosci od a (np dla wybranych a z przedzialu [1..100].)\n",
    "Na wybranym przykładzie pokazac przyklad wykorzystania metod całkowania do nieskonczonosci z GSL. Narysowac wykres funkcji, dla ktorej obliczana jest calka.\n"
   ]
  },
  {
   "cell_type": "code",
   "execution_count": null,
   "metadata": {},
   "outputs": [],
   "source": [
    "pd.read_csv('integr.csv')"
   ]
  },
  {
   "cell_type": "code",
   "execution_count": null,
   "metadata": {},
   "outputs": [],
   "source": [
    "def tested_fun(x):\n",
    "    return float(1) / x**2"
   ]
  },
  {
   "cell_type": "code",
   "execution_count": null,
   "metadata": {},
   "outputs": [],
   "source": [
    "X = np.linspace(0.1, 2)\n",
    "plt.plot(X, tested_fun(X))\n",
    "plt.show()"
   ]
  },
  {
   "cell_type": "code",
   "execution_count": null,
   "metadata": {},
   "outputs": [],
   "source": []
  }
 ],
 "metadata": {
  "kernelspec": {
   "display_name": "Python 3",
   "language": "python",
   "name": "python3"
  },
  "language_info": {
   "codemirror_mode": {
    "name": "ipython",
    "version": 3
   },
   "file_extension": ".py",
   "mimetype": "text/x-python",
   "name": "python",
   "nbconvert_exporter": "python",
   "pygments_lexer": "ipython3",
   "version": "3.6.2"
  }
 },
 "nbformat": 4,
 "nbformat_minor": 2
}
