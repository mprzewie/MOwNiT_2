{
 "cells": [
  {
   "cell_type": "code",
   "execution_count": null,
   "metadata": {},
   "outputs": [],
   "source": [
    "import numpy as np\n",
    "import pandas as pd\n",
    "import matplotlib.pyplot as plt\n",
    "import ipywidgets as widgets\n",
    "import time\n",
    "from ipywidgets import interact, fixed\n"
   ]
  },
  {
   "cell_type": "markdown",
   "metadata": {},
   "source": [
    "Wygenerowac tablice N punktow (x,y)"
   ]
  },
  {
   "cell_type": "code",
   "execution_count": null,
   "metadata": {},
   "outputs": [],
   "source": [
    "np.random.seed(46)\n",
    "def secret_fun(x):\n",
    "    return x * np.sin(x/2) + np.log(x) * np.cos(x**3) + 30 *np.random.rand()\n",
    "#     return x * np.random.rand() + np.random.rand()\n"
   ]
  },
  {
   "cell_type": "code",
   "execution_count": null,
   "metadata": {},
   "outputs": [],
   "source": [
    "X = np.linspace(1, 100, 30)\n",
    "Y = np.array([secret_fun(x) for x in X])\n",
    "more_X = np.linspace(1, 100, 300)\n",
    "more_Y = np.array([secret_fun(x) for x in more_X])\n",
    "\n",
    "plt.scatter(X, Y)\n",
    "plt.plot(more_X, more_Y, color='red')\n",
    "plt.show()"
   ]
  },
  {
   "cell_type": "code",
   "execution_count": null,
   "metadata": {},
   "outputs": [],
   "source": [
    "src_df = pd.DataFrame({'x': X, 'y':Y})\n",
    "src_df.to_csv('secret_fun.csv', index=False)"
   ]
  },
  {
   "cell_type": "markdown",
   "metadata": {},
   "source": [
    "Uzyc funkcji gsl do interpolacji wielomianowej dla tych punktow - uzyc gsl_interp_polynomial. Narysowac jego wykres."
   ]
  },
  {
   "cell_type": "code",
   "execution_count": null,
   "metadata": {},
   "outputs": [],
   "source": [
    "gsl_interp_df = pd.read_csv('gsl_interp.csv')\n",
    "list(gsl_interp_df)"
   ]
  },
  {
   "cell_type": "code",
   "execution_count": null,
   "metadata": {},
   "outputs": [],
   "source": [
    "plt.scatter(X, Y)\n",
    "plt.plot(gsl_interp_df['x'], gsl_interp_df['y'], color='red')\n",
    "plt.plot(more_X, more_Y, color='green')\n",
    "plt.show()"
   ]
  },
  {
   "cell_type": "markdown",
   "metadata": {},
   "source": [
    "Napisac wlasny program generujacy dane (recznie - bez korzystania z gsl) do narysowania wykresu wielomianu interpolujacego metoda Lagrange'a dla tych punktow w wybranym przedziale. Postarac sie zaprojektowac API podobnie do GSL - osobna funkcja init oraz eval Narysowac wykres."
   ]
  },
  {
   "cell_type": "code",
   "execution_count": null,
   "metadata": {},
   "outputs": [],
   "source": [
    "def interpolation_nodes(XY, nodes_num):\n",
    "    all_points_no = XY.shape[0]\n",
    "    assert(nodes_num <= all_points_no)\n",
    "    nodes = np.array([XY[round(i*(all_points_no / nodes_num))] for i in range(nodes_num)])\n",
    "    nodes[nodes_num - 1] = XY[all_points_no - 1]\n",
    "    return nodes"
   ]
  },
  {
   "cell_type": "code",
   "execution_count": null,
   "metadata": {},
   "outputs": [],
   "source": [
    "# TODO vectorization\n",
    "def lagrange_poly(X, Y, nodes_num=None):\n",
    "    nodes_num = len(X) if nodes_num is None else nodes_num\n",
    "    XY = np.c_[X,Y]\n",
    "    nodes = interpolation_nodes(XY, nodes_num)\n",
    "    \n",
    "    def basis(m, j):\n",
    "        if m == j:\n",
    "            return lambda x: 1\n",
    "        return lambda x: (x - nodes[m][0] ) / (nodes[j][0] - nodes[m][0])\n",
    "    \n",
    "    def result(x):\n",
    "        s = 0\n",
    "        for j in range(len(nodes)):\n",
    "            l = nodes[j][1]\n",
    "            for m in range(len(nodes)):\n",
    "                l *= basis(m, j)(x)\n",
    "            s += l\n",
    "        return s\n",
    "    return result, nodes                    \n",
    "        "
   ]
  },
  {
   "cell_type": "code",
   "execution_count": null,
   "metadata": {},
   "outputs": [],
   "source": [
    "def demonstrate_lagrange(max_X, interp_nodes_no):\n",
    "    X = np.linspace(1, max_X, 30)\n",
    "    more_X = np.linspace(1, max_X, 300)\n",
    "    Y = np.array([secret_fun(x) for x in X])\n",
    "    poly, nodes = lagrange_poly(X, Y, nodes_num=interp_nodes_no)\n",
    "    more_Y_interp = poly(more_X)\n",
    "    more_Y = np.array([secret_fun(x) for x in more_X])\n",
    "    plt.scatter(X, Y, color='blue')\n",
    "    plt.scatter([n[0] for n in nodes], [n[1] for n in nodes], color='red')\n",
    "    plt.plot(more_X, more_Y_interp, color='red')\n",
    "    plt.plot(more_X, more_Y, color='green')\n",
    "\n",
    "    plt.show()"
   ]
  },
  {
   "cell_type": "code",
   "execution_count": null,
   "metadata": {},
   "outputs": [],
   "source": [
    "interact(demonstrate_lagrange, \n",
    "         max_X=widgets.IntSlider(min=1, max=1000, value=100),\n",
    "        interp_nodes_no=widgets.IntSlider(min=1, max=30, value=30)\n",
    "        )"
   ]
  },
  {
   "cell_type": "markdown",
   "metadata": {},
   "source": [
    "Zrobic to samo metoda Newtona. Porownac wszystkie 3 wyniki na jednym wykresie."
   ]
  },
  {
   "cell_type": "code",
   "execution_count": null,
   "metadata": {},
   "outputs": [],
   "source": [
    "def newton_poly(X, Y):\n",
    "    XY = np.c_[X,Y]\n",
    "    cache = [[None for j in range(len(XY))] for i in range(len(XY))]\n",
    "    \n",
    "    def div_difference(i, j):\n",
    "        assert(i <= j)\n",
    "        if(i == j):\n",
    "            return XY[i][1]\n",
    "        if cache[i][j] is None:\n",
    "            cache[i][j] =  (div_difference(i + 1, j) - div_difference(i, j-1)) / (XY[j][0] - XY[i][0]) \n",
    "        return cache[i][j]\n",
    "    \n",
    "    def mul_up_to(i):\n",
    "        def result(x):\n",
    "            r = 1\n",
    "            for j in range(i):\n",
    "#                 print(i)\n",
    "                r *= (x - XY[j][0])\n",
    "            return r\n",
    "        return result\n",
    "    \n",
    "    A = np.array([div_difference(0,j) for j in range(len(XY))])\n",
    "    def result(x):\n",
    "        muls = np.array([mul_up_to(i)(x) for i in range(len(XY))])\n",
    "        return (A * muls).sum()\n",
    "    \n",
    "    return result\n",
    "    "
   ]
  },
  {
   "cell_type": "code",
   "execution_count": null,
   "metadata": {},
   "outputs": [],
   "source": [
    "def demonstrate_newton(max_X):\n",
    "    X = np.linspace(1, max_X, 30)\n",
    "    more_X = np.linspace(1, max_X, 300)\n",
    "    Y = np.array([secret_fun(x) for x in X])\n",
    "    poly = newton_poly(X, Y)\n",
    "    more_Y_interp = [poly(x) for x in more_X]\n",
    "    plt.scatter(X, Y, color='blue')\n",
    "    plt.plot(more_X, more_Y_interp, color='red')\n",
    "    plt.show()"
   ]
  },
  {
   "cell_type": "code",
   "execution_count": null,
   "metadata": {},
   "outputs": [],
   "source": [
    "interact(demonstrate_newton, \n",
    "         max_X=widgets.IntSlider(min=1, max=1000, value=100, step=10)\n",
    "        )"
   ]
  },
  {
   "cell_type": "code",
   "execution_count": null,
   "metadata": {},
   "outputs": [],
   "source": [
    "def demonstrate_all(max_X,lagrange_interp_nodes_no):\n",
    "    X = np.linspace(1, max_X, 30)\n",
    "    more_X = np.linspace(1, max_X, 300)\n",
    "    Y = np.array([secret_fun(x) for x in X])\n",
    "    \n",
    "    lagrange_p, nodes = lagrange_poly(X, Y, nodes_num=lagrange_interp_nodes_no)\n",
    "    lagrange_Y_interp = np.array([lagrange_p(x) for x in more_X])\n",
    "    \n",
    "    newton_p = newton_poly(X, Y)\n",
    "    newton_Y_interp = np.array([newton_p(x) for x in more_X])\n",
    "    \n",
    "    plt.scatter(X, Y, color='blue')\n",
    "    plt.scatter([n[0] for n in nodes], [n[1] for n in nodes], color='red')\n",
    "\n",
    "    plt.plot(gsl_interp_df['x'], gsl_interp_df['y'], color='green')\n",
    "    \n",
    "    plt.plot(more_X, newton_Y_interp, color='orange')\n",
    "    plt.plot(more_X, lagrange_Y_interp, color='red')\n",
    "    print((newton_Y_interp - lagrange_Y_interp).sum())\n",
    "    plt.show()"
   ]
  },
  {
   "cell_type": "code",
   "execution_count": null,
   "metadata": {},
   "outputs": [],
   "source": [
    "interact(demonstrate_all, \n",
    "         max_X=widgets.IntSlider(min=1, max=1000, value=100),\n",
    "        lagrange_interp_nodes_no=widgets.IntSlider(min=1, max=30, value=30)\n",
    "        )\n"
   ]
  },
  {
   "cell_type": "markdown",
   "metadata": {},
   "source": [
    "Porownac metody poprzez pomiar czasu wykonania dla zmiennej ilosci wezlow interpolacji. Dokonac pomiaru 10 razy i policzyc wartosc srednia oraz oszacowac blad pomiaru za pomoca odchylenia standardowego. Narysowac wykresy w R."
   ]
  },
  {
   "cell_type": "code",
   "execution_count": null,
   "metadata": {},
   "outputs": [],
   "source": [
    "def interp_create_time(poly_generator, nodes_count, max_X=1000):\n",
    "    X = np.linspace(1, max_X, nodes_count)\n",
    "    Y = np.array([secret_fun(x) for x in X])\n",
    "    t_0 = time.time()\n",
    "    poly = poly_generator(X, Y)\n",
    "    t_1 = time.time()\n",
    "    return poly, t_1 - t_0"
   ]
  },
  {
   "cell_type": "code",
   "execution_count": null,
   "metadata": {},
   "outputs": [],
   "source": [
    "def interp_perform_time(poly, max_X=1000):\n",
    "    more_X = np.linspace(1, max_X, max_X)\n",
    "    t_0 = time.time()\n",
    "    interp = np.array([poly(x) for x in more_X])\n",
    "    t_1 = time.time()\n",
    "    return t_1 - t_0"
   ]
  },
  {
   "cell_type": "code",
   "execution_count": null,
   "metadata": {},
   "outputs": [],
   "source": [
    "def performance(generator, max_nodes, is_lagrange=False):\n",
    "    creation_times = []\n",
    "    performance_times = []\n",
    "    for nodes_count in range(1, max_nodes):\n",
    "        poly, creation_time = interp_create_time(generator, nodes_count)\n",
    "        if is_lagrange:\n",
    "            poly = poly[0]\n",
    "        interp_time = interp_perform_time(poly)\n",
    "        creation_times.append(creation_time)\n",
    "        performance_times.append(interp_time)\n",
    "    return creation_times, performance_times    "
   ]
  },
  {
   "cell_type": "code",
   "execution_count": null,
   "metadata": {},
   "outputs": [],
   "source": [
    "max_nodes = 30\n",
    "l_creation, l_performance = performance(lagrange_poly, max_nodes, True)\n",
    "n_creation, n_performance = performance(newton_poly, max_nodes)\n",
    "nodes_list = list(range(1, max_nodes))\n",
    "plt.plot(nodes_list, l_creation, color='red')\n",
    "plt.plot(nodes_list, n_creation, color='blue')\n",
    "plt.title('interpolation generation time')\n",
    "plt.show()"
   ]
  },
  {
   "cell_type": "code",
   "execution_count": null,
   "metadata": {},
   "outputs": [],
   "source": [
    "plt.plot(nodes_list, l_performance, color='red')\n",
    "plt.plot(nodes_list, n_performance, color='blue')\n",
    "plt.title('interpolation evaluation time')\n",
    "plt.show()"
   ]
  },
  {
   "cell_type": "markdown",
   "metadata": {},
   "source": [
    "Poeksperymentowac z innymi typami interpolacji gsl (cspline, akima), zmierzyc czasy, narysowac wykresy i porownac z wykresami interpolacji wielomianowej. Zaobserwowac, gdzie wystepuje efekt Rungego."
   ]
  },
  {
   "cell_type": "code",
   "execution_count": null,
   "metadata": {},
   "outputs": [],
   "source": [
    "from scipy import interpolate\n",
    "\n",
    "def demonstrate_cspline(max_X, interp_nodes):\n",
    "    X = np.linspace(1, max_X, interp_nodes)\n",
    "    Y = secret_fun(X)\n",
    "    more_X = np.linspace(1, max_X, max_X)\n",
    "    tck = interpolate.splrep(X, Y, s=0)\n",
    "    more_Y_interp = interpolate.splev(more_X, tck, der=0)\n",
    "    more_Y = secret_fun(more_X)\n",
    "    plt.scatter(X, Y, color='blue')\n",
    "    plt.plot(more_X, more_Y_interp, color='red')\n",
    "    plt.plot(more_X, more_Y, color='green')\n",
    "\n",
    "    plt.show()\n"
   ]
  },
  {
   "cell_type": "code",
   "execution_count": null,
   "metadata": {},
   "outputs": [],
   "source": [
    "interact(demonstrate_cspline, \n",
    "         max_X=widgets.IntSlider(min=1, max=1000, value=100, step=10),\n",
    "         interp_nodes=widgets.IntSlider(min=1, max=100, value=30)\n",
    "        )"
   ]
  },
  {
   "cell_type": "code",
   "execution_count": null,
   "metadata": {},
   "outputs": [],
   "source": [
    "def demonstrate_akima(max_X, interp_nodes):\n",
    "    X = np.linspace(1, max_X, interp_nodes)\n",
    "    Y = secret_fun(X)\n",
    "    more_X = np.linspace(1, max_X, max_X)\n",
    "    interpolator = interpolate.Akima1DInterpolator(X, Y)\n",
    "    more_Y_interp = interpolator(more_X)\n",
    "    more_Y = secret_fun(more_X)\n",
    "    plt.scatter(X, Y, color='blue')\n",
    "    plt.plot(more_X, more_Y_interp, color='red')\n",
    "    plt.plot(more_X, more_Y, color='green')\n",
    "\n",
    "    plt.show()\n"
   ]
  },
  {
   "cell_type": "code",
   "execution_count": null,
   "metadata": {},
   "outputs": [],
   "source": [
    "interact(demonstrate_cspline, \n",
    "         max_X=widgets.IntSlider(min=1, max=1000, value=100, step=10),\n",
    "         interp_nodes=widgets.IntSlider(min=1, max=100, value=30)\n",
    "        )"
   ]
  }
 ],
 "metadata": {
  "kernelspec": {
   "display_name": "Python 3",
   "language": "python",
   "name": "python3"
  },
  "language_info": {
   "codemirror_mode": {
    "name": "ipython",
    "version": 3
   },
   "file_extension": ".py",
   "mimetype": "text/x-python",
   "name": "python",
   "nbconvert_exporter": "python",
   "pygments_lexer": "ipython3",
   "version": "3.6.2"
  }
 },
 "nbformat": 4,
 "nbformat_minor": 2
}
