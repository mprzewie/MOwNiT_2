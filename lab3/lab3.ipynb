{
 "cells": [
  {
   "cell_type": "code",
   "execution_count": null,
   "metadata": {},
   "outputs": [],
   "source": [
    "function naive_multiplication(A,B)\n",
    "C=zeros(Float64,size(A,1),size(B,2))\n",
    "  for i=1:size(A,1)\n",
    "    for j=1:size(B,2)\n",
    "        for k=1:size(A,2)\n",
    "            C[i,j]=C[i,j]+A[i,k]*B[k,j]\n",
    "        end\n",
    "    end\n",
    "end\n",
    "C\n",
    "end\n"
   ]
  },
  {
   "cell_type": "code",
   "execution_count": null,
   "metadata": {},
   "outputs": [],
   "source": [
    "function better_multiplication( A,B )\n",
    "C=zeros(Float64,size(A,1),size(B,2))\n",
    "  for j=1:size(A,1)\n",
    "    for k=1:size(B,2)\n",
    "        for i=1:size(A,2)\n",
    "            C[i,j]=C[i,j]+A[i,k]*B[k,j]\n",
    "        end\n",
    "    end\n",
    "end\n",
    "C\n",
    "end"
   ]
  },
  {
   "cell_type": "code",
   "execution_count": null,
   "metadata": {},
   "outputs": [],
   "source": [
    "function blas_multiplication(A,B)\n",
    "    A * B\n",
    "end"
   ]
  },
  {
   "cell_type": "markdown",
   "metadata": {},
   "source": [
    "### Zadania\n",
    " \n",
    "1.Uruchomić \n",
    "   - naive_multiplication(A,B), \n",
    "   - better_multiplication(A,B) \n",
    "   - mnożenie BLAS w Julii (A*B) \n",
    "\n",
    "dla coraz większych macierzy i zmierzyć czasy. Narysować wykres zależyności czasu od rozmiaru macierzy wraz z słupkami błędów, tak jak na poprzednim laboratorium. Wszystkie trzy metody powinny być na jednym wykresie.\n"
   ]
  },
  {
   "cell_type": "code",
   "execution_count": null,
   "metadata": {},
   "outputs": [],
   "source": [
    "using DataFrames\n",
    "\n",
    "\n",
    "function calc(frame, column)\n",
    "    by(frame, :size, df-> DataFrame(avg_time=mean(df[column]), std_dev=std(df[column])))\n",
    "end\n",
    "\n",
    "using Gadfly\n",
    "using Compose\n",
    "\n",
    "function layer_calc(calc)\n",
    "    layer(calc, \n",
    "            x=:size, \n",
    "            y=:avg_time, \n",
    "            ymin=calc[:avg_time] - calc[:std_dev], \n",
    "            ymax=calc[:avg_time] + calc[:std_dev],\n",
    "            Geom.point, Geom.errorbar, Theme(default_color=colorant\"orange\"))\n",
    "end \n",
    "\n",
    "function plot_title(title)\n",
    "    compose(context(0, 0, 1w, 0.25inch),\n",
    "                text(0.5, 1.0, title, hcenter, vbottom))\n",
    "end"
   ]
  },
  {
   "cell_type": "code",
   "execution_count": null,
   "metadata": {},
   "outputs": [],
   "source": [
    "b_range = 0:50:500\n",
    "range = vcat(b_range, b_range, b_range, b_range, b_range, b_range)\n",
    "frame = DataFrame()\n",
    "frame[:size] = [size for size in (range)]\n",
    "frame[:naive] = [@elapsed naive_multiplication(rand(s, s), rand(s,s)) for s in range]\n",
    "frame[:better] = [@elapsed better_multiplication(rand(s, s), ones(s, s)) for s in range]\n",
    "frame[:blas] = [@elapsed blas_multiplication(ones(s, s), ones(s, s)) for s in range]\n",
    "\n",
    "naive_calc = calc(frame, :naive)\n",
    "\n",
    "better_calc = calc(frame, :better)\n",
    "\n",
    "blas_calc = calc(frame, :blas)\n",
    "\n"
   ]
  },
  {
   "cell_type": "code",
   "execution_count": null,
   "metadata": {},
   "outputs": [],
   "source": [
    "julia_naive_plot = plot(layer_calc(naive_calc))\n",
    "julia_better_plot = plot(layer_calc(better_calc))\n",
    "julia_blas_plot = plot(layer_calc(blas_calc))\n",
    "\n",
    "julia_plot = vstack(hstack(julia_naive_plot, julia_better_plot, julia_blas_plot))"
   ]
  },
  {
   "cell_type": "markdown",
   "metadata": {},
   "source": [
    "2.Napisać w języku C:\n",
    "    - naiwną metodę mnożenia macierzy (wersja 1) \n",
    "    - ulepszoną za pomocą zamiany pętli metodę mnożenia macierzy (wersja 2), pamiętając, że w C macierz przechowywana jest wierszami (row major order tzn A11,A12, ..., A1m, A21, A22,...,A2m, ..Anm), inaczej niż w Julii ! \n",
    "    - skorzystać z  możliwości BLAS dostępnego w GSL(wersja 3). \n",
    "    \n",
    "Należy porównywać działanie tych trzech algorytmow bez włączonej opcji optymalizacji kompilatora. Przedstawić wyniki na jednym wykresie tak jak w p.1.(osobno niż p.1). (Dla chętnych) sprawdzić, co się dzieje, jak włączymy optymalizację kompilatora i dodać do wykresu.\n",
    "\n"
   ]
  },
  {
   "cell_type": "code",
   "execution_count": null,
   "metadata": {},
   "outputs": [],
   "source": [
    "naive_c_unopt = calc(readtable(\"matrices/naive_unoptimized.csv\"), :result)\n",
    "better_c_unopt = calc(readtable(\"matrices/better_unoptimized.csv\"), :result)\n",
    "blas_c_unopt = calc(readtable(\"matrices/blas_unoptimized.csv\"), :result)\n",
    "\n",
    "\n",
    "c_unopt_naive_plot = plot(layer_calc(naive_c_unopt))\n",
    "c_unopt_better_plot = plot(layer_calc(better_c_unopt))\n",
    "c_unopt_blas_plot = plot(layer_calc(blas_c_unopt))\n",
    "\n",
    "c_unopt_plot = vstack(hstack(c_unopt_naive_plot, c_unopt_better_plot, c_unopt_blas_plot))"
   ]
  },
  {
   "cell_type": "code",
   "execution_count": null,
   "metadata": {},
   "outputs": [],
   "source": [
    "# compiled with -Ofast option\n",
    "naive_c_opt = calc(readtable(\"matrices/naive.csv\"), :result)\n",
    "better_c_opt = calc(readtable(\"matrices/better.csv\"), :result)\n",
    "blas_c_opt = calc(readtable(\"matrices/blas.csv\"), :result)\n",
    "\n",
    "\n",
    "c_opt_naive_plot = plot(layer_calc(naive_c_opt))\n",
    "c_opt_better_plot = plot(layer_calc(better_c_opt))\n",
    "c_opt_blas_plot = plot(layer_calc(blas_c_opt))\n",
    "\n",
    "c_opt_plot = vstack(hstack(c_opt_naive_plot, c_opt_better_plot, c_opt_blas_plot))\n",
    "\n",
    "# the performance is improved by a factor of 1.5 - however not even close to Julia's performance. \n",
    "# some problem may be in the time units of my measurements, but AFAIK it doesn't seem to be the case"
   ]
  },
  {
   "cell_type": "markdown",
   "metadata": {},
   "source": [
    "3.Użyć funkcji curve_fit  z pakietu  do aproxymacji   do znalezienia odpowiednich wielomianow, ktore najlepiej pasują do zależności czasowych kazdego z algorytmow. Stopień wielomianu powinien zgadzać się z teoretyczną złożonoscią. Dodać wykresy uzyskanych wielomianow do wczesniejszych  wykresów."
   ]
  },
  {
   "cell_type": "code",
   "execution_count": null,
   "metadata": {},
   "outputs": [],
   "source": [
    "using CurveFit\n",
    "\n",
    "function calc_fit(calc, degree=3)\n",
    "    x = convert(Array{Float64, 1}, calc[:size])\n",
    "    y = convert(Array{Float64, 1}, calc[:avg_time])\n",
    "    poly_fit(x, y , degree) \n",
    "end\n",
    "\n",
    "function poly(p)\n",
    "    f(x) = sum([p[i]*(x^(i - 1)) for i in 1:length(p)])\n",
    "end\n",
    "\n",
    "naive_julia_fit = calc_fit(naive_calc)\n",
    "better_julia_fit = calc_fit(better_calc)\n",
    "blas_julia_fit = calc_fit(blas_calc)\n",
    "naive_c_unopt_fit = calc_fit(naive_c_unopt)\n",
    "better_c_unopt_fit = calc_fit(better_c_unopt)\n",
    "blas_c_unopt_fit = calc_fit(blas_c_unopt)\n",
    "naive_c_opt_fit = calc_fit(naive_c_opt)\n",
    "better_c_opt_fit = calc_fit(better_c_opt)\n",
    "blas_c_opt_fit = calc_fit(blas_c_opt)\n",
    "\n",
    "naive_julia_fun = poly(naive_julia_fit)\n",
    "better_julia_fun = poly(better_julia_fit)\n",
    "blas_julia_fun = poly(blas_julia_fit)\n",
    "naive_c_unopt_fun = poly(naive_c_unopt_fit)\n",
    "better_c_unopt_fun = poly(better_c_unopt_fit)\n",
    "blas_c_unopt_fun = poly(blas_c_unopt_fit)\n",
    "naive_c_opt_fun = poly(naive_c_opt_fit)\n",
    "better_c_opt_fun = poly(better_c_opt_fit)\n",
    "blas_c_opt_fun = poly(blas_c_opt_fit)"
   ]
  },
  {
   "cell_type": "code",
   "execution_count": null,
   "metadata": {},
   "outputs": [],
   "source": [
    "julia_naive_plot = plot(layer_calc(naive_calc), layer(naive_julia_fun, 1, 500))\n",
    "julia_better_plot = plot(layer_calc(better_calc), layer(better_julia_fun, 1, 500))\n",
    "julia_blas_plot = plot(layer_calc(blas_calc), layer(blas_julia_fun, 1, 500))\n",
    "\n",
    "julia_plot = vstack(hstack(julia_naive_plot, julia_better_plot, julia_blas_plot))\n",
    "\n",
    "c_unopt_naive_plot = plot(layer_calc(naive_c_unopt), layer(naive_c_unopt_fun, 1, 500))\n",
    "c_unopt_better_plot = plot(layer_calc(better_c_unopt), layer(better_c_unopt_fun, 1, 500))\n",
    "c_unopt_blas_plot = plot(layer_calc(blas_c_unopt), layer(blas_c_unopt_fun, 1, 500))\n",
    "\n",
    "c_unopt_plot = vstack(hstack(c_unopt_naive_plot, c_unopt_better_plot, c_unopt_blas_plot))\n",
    "\n",
    "c_opt_naive_plot = plot(layer_calc(naive_c_opt), layer(naive_c_opt_fun, 1, 500))\n",
    "c_opt_better_plot = plot(layer_calc(better_c_opt), layer(better_c_opt_fun, 1, 500))\n",
    "c_opt_blas_plot = plot(layer_calc(blas_c_opt), layer(blas_c_opt_fun, 1, 500))\n",
    "\n",
    "c_opt_plot = vstack(hstack(c_opt_naive_plot, c_opt_better_plot, c_opt_blas_plot))\n",
    "\n"
   ]
  },
  {
   "cell_type": "markdown",
   "metadata": {},
   "source": [
    "4.Przedstawić wyniki dla języka Julia i C na wspólnym wykresie. Jaka metoda jest najszybsza? \n"
   ]
  },
  {
   "cell_type": "code",
   "execution_count": null,
   "metadata": {},
   "outputs": [],
   "source": [
    "draw(SVG(20cm, 30cm), vstack(\n",
    "        plot_title(\"Julia\"), julia_plot, \n",
    "        plot_title(\"C unoptimized\"), c_unopt_plot, \n",
    "        plot_title(\"C optimized\"), c_opt_plot))"
   ]
  }
 ],
 "metadata": {
  "kernelspec": {
   "display_name": "Julia 0.6.0",
   "language": "julia",
   "name": "julia-0.6"
  },
  "language_info": {
   "file_extension": ".jl",
   "mimetype": "application/julia",
   "name": "julia",
   "version": "0.6.0"
  }
 },
 "nbformat": 4,
 "nbformat_minor": 2
}
