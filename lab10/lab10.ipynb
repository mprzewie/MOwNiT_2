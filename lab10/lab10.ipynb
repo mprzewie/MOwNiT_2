{
 "cells": [
  {
   "cell_type": "code",
   "execution_count": null,
   "metadata": {},
   "outputs": [],
   "source": [
    "import numpy as np\n",
    "import matplotlib.pyplot as plt\n",
    "import seaborn as sns"
   ]
  },
  {
   "cell_type": "markdown",
   "metadata": {},
   "source": [
    "Source: http://home.agh.edu.pl/~kzajac/dydakt/mownit/lab10/pde.pdf"
   ]
  },
  {
   "cell_type": "markdown",
   "metadata": {},
   "source": [
    "Membrana w kształcie kwadratu o boku a jest równomiernie obciążona.\n",
    "Membrana znajduje sie w stanie statycznym, a jej brzeg jest sztywno zamocowany i nieodkształcony.\n",
    "Obliczyc odkształcenie membrany od poziomu , zakładając ze spełnia ono\n",
    "równanie Poissona:\n",
    "\n",
    "$$\n",
    "\\frac{\\partial^2M}{\\partial x^2} + \\frac{\\partial^2M}{\\partial y^2} = \\frac{-p}{T}\n",
    "$$\n",
    "\n",
    "Gdzie mamy ustalone parametry:\n",
    "* $p>0$ - ciśnienie wywierane na membrane.\n",
    "* $T$ - napięcie membrany.\n",
    "\n",
    "$m$ - wartość napięcia membrany"
   ]
  },
  {
   "cell_type": "markdown",
   "metadata": {},
   "source": [
    "Oznaczenia:\n",
    "* $N$ := wymiary siatki\n",
    "* $d = \\frac{a}{N-1}$ := odległość między polami na siatce\n",
    "* M := macierz $(N) \\times (N)$ wartości napięcia membrany w danych punktach"
   ]
  },
  {
   "cell_type": "markdown",
   "metadata": {},
   "source": [
    "$$\n",
    "\\frac{\\partial^2 M}{\\partial x^2} = \\frac{M_{i+1,j} - 2 \\cdot M_{ij} + M_{i-1,j} }{d^2}\n",
    "$$\n",
    "\n",
    "$$\n",
    "\\frac{\\partial^2 M}{\\partial y^2} = \\frac{M_{i,j+1} - 2 \\cdot M_{ij} + M_{i,j-1} }{d^2}\n",
    "$$"
   ]
  },
  {
   "cell_type": "markdown",
   "metadata": {},
   "source": [
    "Zapiszmy układ równań różniczkowych:\n",
    "\n",
    "$$\n",
    "\\begin{cases}\n",
    "    \\forall i, j \\in {1..N} : M_{1,j} = M_{N,j} = M_{i,1} = M_{i,N} = 0 \\\\\n",
    "    M_{i+1,j}  + M_{i-1,j} + M_{i,j+1} + M_{i,j-1} - 4 \\cdot M_{ij} = \\dfrac{-p \\cdot d^2}{T}\n",
    "\\end{cases}\n",
    "$$"
   ]
  },
  {
   "cell_type": "markdown",
   "metadata": {},
   "source": [
    "W celu zwektoryzowania siatki M, wprowadźmy wektor $\\theta$:\n",
    "\n",
    "$$\n",
    "M_{ij} = \\theta_{N\\cdot i + j}\n",
    "$$\n",
    "\n",
    "Zauważmy, że dla danego $M{ij} = \\theta_k$\n",
    "$$\n",
    "\\begin{cases}\n",
    "    M_{i-1, j} = \\theta_{k - N} \\\\\n",
    "    M_{i+1, j} = \\theta_{k + N} \\\\\n",
    "    M_{i, j-1} = \\theta_{k-1} \\\\\n",
    "    M_{i, j+1} = \\theta_{k+1}\n",
    "\\end{cases}\n",
    "$$"
   ]
  },
  {
   "cell_type": "markdown",
   "metadata": {},
   "source": [
    "Po przekształceniu:\n",
    "\n",
    "$$\n",
    "\\begin{cases}\n",
    "    \\forall i \\in (1 \\space .. \\space N) : \\theta_i = 0 \n",
    "        \\space\\space\\text{(krawędź górna)}\\\\\n",
    "    \\forall i \\in (1 \\space .. \\space N) : \\theta_{N(N-1) + i} = 0\n",
    "        \\space\\space\\text{(krawędź dolna)}\\\\\n",
    "    \\forall j \\in (0 \\space .. \\space N-1) : \\theta_{Nj + 1} = 0 \n",
    "        \\space\\space\\text{(krawędź lewa)}\\\\\n",
    "    \\forall j \\in (1 \\space .. \\space N) : \\theta_{Nj} = 0\n",
    "        \\space\\space\\text{(krawędź prawa)}\\\\\n",
    "    \\theta_{k-N}  + \\theta_{k+N} + \\theta_{k-1} + \\theta_{k+1} - 4 \\cdot \\theta_{k} = \\dfrac{-p \\cdot d^2}{T}\n",
    "        \\space\\space\\text{(pozostałe punkty)}\\\\\n",
    "\\end{cases}\n",
    "$$\n"
   ]
  },
  {
   "cell_type": "code",
   "execution_count": null,
   "metadata": {},
   "outputs": [],
   "source": [
    "a = 1.0\n",
    "p = 1.0\n",
    "T = 1.0\n",
    "\n",
    "N = 20\n",
    "d = a / (N - 1)\n",
    "\n",
    "a, p, T, N, d\n",
    "NN = N ** 2 # number of datapoints"
   ]
  },
  {
   "cell_type": "code",
   "execution_count": null,
   "metadata": {},
   "outputs": [],
   "source": [
    "up_edge = np.arange(0,N)\n",
    "down_edge = np.arange(NN - N, NN)\n",
    "left_edge = np.arange(N) * N\n",
    "right_edge = (np.arange(N) + 1) * N - 1\n",
    "\n",
    "up_edge, down_edge, left_edge, right_edge"
   ]
  },
  {
   "cell_type": "markdown",
   "metadata": {},
   "source": [
    "Right-hand vector of results"
   ]
  },
  {
   "cell_type": "code",
   "execution_count": null,
   "metadata": {},
   "outputs": [],
   "source": [
    "results = np.array([(-p * d ** 2) / T for _ in range(NN)])\n",
    "results[up_edge] = results[down_edge] = results[left_edge] = results[right_edge] = 0\n",
    "results"
   ]
  },
  {
   "cell_type": "markdown",
   "metadata": {},
   "source": [
    "Matrix of coefficients:"
   ]
  },
  {
   "cell_type": "code",
   "execution_count": null,
   "metadata": {},
   "outputs": [],
   "source": [
    "matrix = np.eye(NN) * -4\n",
    "matrix[np.arange(1, NN), np.arange(0, NN - 1)] = 1 # elem to the left\n",
    "matrix[np.arange(0, NN - 1), np.arange(1, NN)] = 1 # elems to the right\n",
    "\n",
    "matrix[np.arange(N, NN), np.arange(0, NN - N)] = 1 # elems to the up\n",
    "matrix[np.arange(0, NN - N - 1), np.arange(N, NN - 1)] = 1 # elems to the down\n",
    "\n",
    "matrix[:, up_edge] = 0\n",
    "matrix[:, down_edge] = 0\n",
    "matrix[:, left_edge] = 0\n",
    "matrix[:, right_edge] = 0"
   ]
  },
  {
   "cell_type": "markdown",
   "metadata": {},
   "source": [
    "Thetas:"
   ]
  },
  {
   "cell_type": "code",
   "execution_count": null,
   "metadata": {},
   "outputs": [],
   "source": [
    "thetas = np.linalg.lstsq(matrix, results)[0]"
   ]
  },
  {
   "cell_type": "code",
   "execution_count": null,
   "metadata": {},
   "outputs": [],
   "source": [
    "membrane = thetas.reshape(N, N)\n",
    "membrane[0] = 0\n",
    "membrane[N-1] = 0\n",
    "membrane[np.arange(N), 0] = 0\n",
    "membrane[np.arange(N), N-1] = 0"
   ]
  },
  {
   "cell_type": "code",
   "execution_count": null,
   "metadata": {},
   "outputs": [],
   "source": [
    "sns.heatmap(membrane)"
   ]
  }
 ],
 "metadata": {
  "kernelspec": {
   "display_name": "Python 3",
   "language": "python",
   "name": "python3"
  },
  "language_info": {
   "codemirror_mode": {
    "name": "ipython",
    "version": 3
   },
   "file_extension": ".py",
   "mimetype": "text/x-python",
   "name": "python",
   "nbconvert_exporter": "python",
   "pygments_lexer": "ipython3",
   "version": "3.6.2"
  }
 },
 "nbformat": 4,
 "nbformat_minor": 2
}
