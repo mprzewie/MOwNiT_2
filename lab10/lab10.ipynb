{
 "cells": [
  {
   "cell_type": "code",
   "execution_count": null,
   "metadata": {},
   "outputs": [],
   "source": [
    "import numpy as np\n",
    "import matplotlib.pyplot as plt\n",
    "import seaborn as sns\n",
    "import pandas as pd\n",
    "import time\n",
    "\n",
    "from ipywidgets import interact\n",
    "from ipywidgets.widgets import IntSlider, fixed"
   ]
  },
  {
   "cell_type": "markdown",
   "metadata": {},
   "source": [
    "Source: http://home.agh.edu.pl/~kzajac/dydakt/mownit/lab10/pde.pdf"
   ]
  },
  {
   "cell_type": "markdown",
   "metadata": {},
   "source": [
    "Membrana w kształcie kwadratu o boku a jest równomiernie obciążona.\n",
    "Membrana znajduje sie w stanie statycznym, a jej brzeg jest sztywno zamocowany i nieodkształcony.\n",
    "Obliczyc odkształcenie membrany od poziomu , zakładając ze spełnia ono\n",
    "równanie Poissona:\n",
    "\n",
    "$$\n",
    "\\frac{\\partial^2M}{\\partial x^2} + \\frac{\\partial^2M}{\\partial y^2} = \\frac{-p}{T}\n",
    "$$\n",
    "\n",
    "Gdzie mamy ustalone parametry:\n",
    "* $p>0$ - ciśnienie wywierane na membrane.\n",
    "* $T$ - napięcie membrany.\n",
    "\n",
    "$m$ - wartość napięcia membrany"
   ]
  },
  {
   "cell_type": "markdown",
   "metadata": {},
   "source": [
    "Oznaczenia:\n",
    "* $N$ := wymiary siatki\n",
    "* $d = \\frac{a}{N-1}$ := odległość między polami na siatce\n",
    "* M := macierz $(N) \\times (N)$ wartości napięcia membrany w danych punktach"
   ]
  },
  {
   "cell_type": "markdown",
   "metadata": {},
   "source": [
    "$$\n",
    "\\frac{\\partial^2 M}{\\partial x^2} = \\frac{M_{i+1,j} - 2 \\cdot M_{ij} + M_{i-1,j} }{d^2}\n",
    "$$\n",
    "\n",
    "$$\n",
    "\\frac{\\partial^2 M}{\\partial y^2} = \\frac{M_{i,j+1} - 2 \\cdot M_{ij} + M_{i,j-1} }{d^2}\n",
    "$$"
   ]
  },
  {
   "cell_type": "markdown",
   "metadata": {},
   "source": [
    "Zapiszmy układ równań różniczkowych:\n",
    "\n",
    "$$\n",
    "\\begin{cases}\n",
    "    \\forall i, j \\in {1..N} : M_{1,j} = M_{N,j} = M_{i,1} = M_{i,N} = 0 \\space\\space \\text{(krawędzie)} \\\\\n",
    "    M_{i+1,j}  + M_{i-1,j} + M_{i,j+1} + M_{i,j-1} - 4 \\cdot M_{ij} = \\dfrac{-p \\cdot d^2}{T} \\space\\space \\text{(pozostałe punkty)}\n",
    "\\end{cases}\n",
    "$$"
   ]
  },
  {
   "cell_type": "markdown",
   "metadata": {},
   "source": [
    "W celu zwektoryzowania siatki M, wprowadźmy wektor $\\theta$:\n",
    "\n",
    "$$\n",
    "M_{ij} = \\theta_{N\\cdot i + j}\n",
    "$$\n",
    "\n",
    "Zauważmy, że dla danego $M{ij} = \\theta_k$\n",
    "$$\n",
    "\\begin{cases}\n",
    "    M_{i-1, j} = \\theta_{k - N} \\\\\n",
    "    M_{i+1, j} = \\theta_{k + N} \\\\\n",
    "    M_{i, j-1} = \\theta_{k-1} \\\\\n",
    "    M_{i, j+1} = \\theta_{k+1}\n",
    "\\end{cases}\n",
    "$$"
   ]
  },
  {
   "cell_type": "markdown",
   "metadata": {},
   "source": [
    "Po przekształceniu:\n",
    "\n",
    "$$\n",
    "\\begin{cases}\n",
    "    \\forall i \\in (1 \\space .. \\space N) : \\theta_i = 0 \n",
    "        \\space\\space\\text{(krawędź górna)}\\\\\n",
    "    \\forall i \\in (1 \\space .. \\space N) : \\theta_{N(N-1) + i} = 0\n",
    "        \\space\\space\\text{(krawędź dolna)}\\\\\n",
    "    \\forall j \\in (0 \\space .. \\space N-1) : \\theta_{Nj + 1} = 0 \n",
    "        \\space\\space\\text{(krawędź lewa)}\\\\\n",
    "    \\forall j \\in (1 \\space .. \\space N) : \\theta_{Nj} = 0\n",
    "        \\space\\space\\text{(krawędź prawa)}\\\\\n",
    "    \\theta_{k-N}  + \\theta_{k+N} + \\theta_{k-1} + \\theta_{k+1} - 4 \\cdot \\theta_{k} = \\dfrac{-p \\cdot d^2}{T}\n",
    "        \\space\\space\\text{(pozostałe punkty)}\\\\\n",
    "\\end{cases}\n",
    "$$\n"
   ]
  },
  {
   "cell_type": "code",
   "execution_count": null,
   "metadata": {},
   "outputs": [],
   "source": [
    "a = 1.0\n",
    "p = 1.0\n",
    "T = 1.0\n",
    "\n",
    "N = 30\n",
    "d = a / (N - 1)\n",
    "\n",
    "a, p, T, N, d\n",
    "NN = N ** 2 # number of datapoints"
   ]
  },
  {
   "cell_type": "markdown",
   "metadata": {},
   "source": [
    "Indeksy punktów na brzegach:"
   ]
  },
  {
   "cell_type": "code",
   "execution_count": null,
   "metadata": {},
   "outputs": [],
   "source": [
    "def edges(N):\n",
    "    NN = N ** 2\n",
    "    up_edge = np.arange(0,N)\n",
    "    down_edge = np.arange(NN - N, NN)\n",
    "    left_edge = np.arange(N) * N\n",
    "    right_edge = (np.arange(N) + 1) * N - 1\n",
    "    return np.concatenate([up_edge, down_edge, left_edge, right_edge])\n",
    "\n",
    "edges(N)"
   ]
  },
  {
   "cell_type": "markdown",
   "metadata": {},
   "source": [
    "Wektor prawej strony układu równań:"
   ]
  },
  {
   "cell_type": "code",
   "execution_count": null,
   "metadata": {},
   "outputs": [],
   "source": [
    "def results(N, p, d, T):\n",
    "    NN = N ** 2 \n",
    "    result = np.array([(-p * d ** 2) / T for _ in range(NN)])\n",
    "    result[edges(N)] = 0\n",
    "    return result"
   ]
  },
  {
   "cell_type": "markdown",
   "metadata": {},
   "source": [
    "Macierz współczynników układu równań:"
   ]
  },
  {
   "cell_type": "code",
   "execution_count": null,
   "metadata": {},
   "outputs": [],
   "source": [
    "def matrix(N):\n",
    "    edg = edges(N)\n",
    "    NN = N ** 2\n",
    "    coeff = np.eye(NN) * -4\n",
    "    coeff[np.arange(1, NN), np.arange(0, NN - 1)] = 1 # elem to the left\n",
    "    coeff[np.arange(0, NN - 1), np.arange(1, NN)] = 1 # elems to the right\n",
    "    coeff[np.arange(N, NN), np.arange(0, NN - N)] = 1 # elems to the up\n",
    "    coeff[np.arange(0, NN - N - 1), np.arange(N, NN - 1)] = 1 # elems to the down\n",
    "    coeff[:, edg] = 0\n",
    "    coeff[edg, edg] = 1\n",
    "    return coeff\n",
    "\n",
    "matrix(3)"
   ]
  },
  {
   "cell_type": "markdown",
   "metadata": {},
   "source": [
    "Wektor rozwiązań układu równań (od razu przekształcony, aby rozwiązania umieścić na siatce punktów)\n",
    "Układ równań jest tu rozwiązywany za pomocą metody $np.linalg.solve$ mającej pod spodem biliotekę LAPACK"
   ]
  },
  {
   "cell_type": "code",
   "execution_count": null,
   "metadata": {},
   "outputs": [],
   "source": [
    "def membrane_lapack(N, p, d, T):\n",
    "    m = matrix(N)\n",
    "    r = results(N, p, d, T)\n",
    "    thetas = np.linalg.solve(m, r)\n",
    "    return thetas.reshape(N,N)"
   ]
  },
  {
   "cell_type": "code",
   "execution_count": null,
   "metadata": {},
   "outputs": [],
   "source": [
    "m_lapack = membrane_lapack(N, p, d, T)\n",
    "sns.heatmap(m_lapack)"
   ]
  },
  {
   "cell_type": "markdown",
   "metadata": {},
   "source": [
    "Pomiar czasu rozwiązania w zależności od przyjętego wymiaru siatki:"
   ]
  },
  {
   "cell_type": "code",
   "execution_count": null,
   "metadata": {},
   "outputs": [],
   "source": [
    "Ns = np.arange(3, 104, 5)\n",
    "trials = 10\n",
    "Ns"
   ]
  },
  {
   "cell_type": "code",
   "execution_count": null,
   "metadata": {},
   "outputs": [],
   "source": [
    "def membrane_performace(membrane_f, Ns=Ns, trials=trials):\n",
    "    df = pd.DataFrame(columns=['N', 'solution_time'])\n",
    "\n",
    "    for N in Ns:\n",
    "        for t in range(trials):\n",
    "            t1 = time.time()\n",
    "            membrane_lapack(N, p, d, T)\n",
    "            t2 = time.time()\n",
    "            t_d = t2 - t1\n",
    "            df = df.append({\n",
    "                'N': N,\n",
    "                'solution_time': t_d\n",
    "                           },\n",
    "            ignore_index=True)    \n",
    "            print('size: ' + str(N) + ', trial: ' + str(t) + \", time: \" + str(t_d), end=\"\\r\")\n",
    "    return df"
   ]
  },
  {
   "cell_type": "code",
   "execution_count": null,
   "metadata": {},
   "outputs": [],
   "source": [
    "lapack_csv = 'lapack.csv'"
   ]
  },
  {
   "cell_type": "code",
   "execution_count": null,
   "metadata": {},
   "outputs": [],
   "source": [
    "# lapack_df = membrane_performace(membrane_lapack)\n",
    "# lapack_df.to_csv('lapack.csv')"
   ]
  },
  {
   "cell_type": "code",
   "execution_count": null,
   "metadata": {},
   "outputs": [],
   "source": [
    "lapack_df = pd.read_csv(lapack_csv)\n",
    "lapack_df_agg = lapack_df.groupby('N').agg(['mean', 'std'])['solution_time']\n",
    "lapack_df_agg"
   ]
  },
  {
   "cell_type": "markdown",
   "metadata": {},
   "source": [
    "Wykres czasu znalezienia rozwiązania od wielkości siatki. Należy pamiętać, że jeżeli wymiar siatki to $N$, to punktów do obliczenia było $N^2$"
   ]
  },
  {
   "cell_type": "code",
   "execution_count": null,
   "metadata": {},
   "outputs": [],
   "source": [
    "plt.scatter(lapack_df_agg['mean'].keys() ** 2, lapack_df_agg['mean'])\n",
    "plt.errorbar(lapack_df_agg['mean'].keys() ** 2, lapack_df_agg['mean'], yerr=lapack_df_agg['std'])\n",
    "\n",
    "plt.show()"
   ]
  },
  {
   "cell_type": "code",
   "execution_count": null,
   "metadata": {},
   "outputs": [],
   "source": [
    "def disp_complexity(degree, df_agg):\n",
    "    X_b = df_agg['mean'].keys() ** 2\n",
    "    Y_b = df_agg['mean']\n",
    "    Y_e = df_agg['std']\n",
    "    p = np.polyfit(X_b, Y_b, degree)\n",
    "    X = np.array([X_b ** i for i in range(degree, -1, -1)]).T\n",
    "    Y = X @ p\n",
    "    print(p)\n",
    "    print(((Y_b - Y) ** 2).sum())\n",
    "    plt.scatter(X_b, Y_b)\n",
    "    plt.errorbar(X_b, Y_b, Y_e)\n",
    "    plt.plot(X_b, Y, color='red')\n",
    "    plt.show()"
   ]
  },
  {
   "cell_type": "code",
   "execution_count": null,
   "metadata": {},
   "outputs": [],
   "source": [
    "interact(\n",
    "    disp_complexity,\n",
    "    degree=IntSlider(min=0, max=10),\n",
    "    df_agg=fixed(lapack_df_agg)\n",
    ")"
   ]
  },
  {
   "cell_type": "markdown",
   "metadata": {},
   "source": [
    "Czas rozwiązania wydaje się rosnąć ze złożonością $O(n^3)$. Nie jest to ładne. Wypróbuję zatem iteracyjną metodę Jacobiego."
   ]
  },
  {
   "cell_type": "code",
   "execution_count": null,
   "metadata": {},
   "outputs": [],
   "source": [
    "M = np.array([[1,2], [3,4]])\n",
    "D = M.diagonal() * np.eye(M.shape[0])\n",
    "M - D"
   ]
  },
  {
   "cell_type": "markdown",
   "metadata": {},
   "source": [
    "Solver nie jest skomplikowany:"
   ]
  },
  {
   "cell_type": "code",
   "execution_count": null,
   "metadata": {},
   "outputs": [],
   "source": [
    "def jacobi_solve(matrix, results, iterations=1000, conv=1e-7):\n",
    "    X = np.zeros_like(results)\n",
    "    D = matrix.diagonal() * np.eye(matrix.shape[0]) \n",
    "    R = matrix - D\n",
    "    Dinv = np.linalg.inv(D)\n",
    "    for it in range(iterations):\n",
    "#         print('iteration', it, \"/\", iterations, end=\"\\r\")\n",
    "        X_tmp = Dinv @ (results - R @ X)\n",
    "#         if (X - X_tmp).sum() < conv:\n",
    "#             break\n",
    "        X = X_tmp\n",
    "    return X"
   ]
  },
  {
   "cell_type": "markdown",
   "metadata": {},
   "source": [
    "Funkcja analogiczna do $membane\\_lapack$, która używa solvera Jacobiego"
   ]
  },
  {
   "cell_type": "code",
   "execution_count": null,
   "metadata": {},
   "outputs": [],
   "source": [
    "def membrane_jacobi(N, p, d, T, iterations=1000):\n",
    "    m = matrix(N)\n",
    "    r = results(N, p, d, T)\n",
    "    thetas = jacobi_solve(m, r, iterations)\n",
    "    return thetas.reshape(N,N)"
   ]
  },
  {
   "cell_type": "code",
   "execution_count": null,
   "metadata": {},
   "outputs": [],
   "source": [
    "m_jacobi = membrane_jacobi(N, p, d, T)\n",
    "sns.heatmap(m_jacobi)"
   ]
  },
  {
   "cell_type": "code",
   "execution_count": null,
   "metadata": {},
   "outputs": [],
   "source": [
    "def jacobi_iters(N, iters):\n",
    "    t0 = time.time()\n",
    "    lapack = membrane_lapack(N, p, d, T)\n",
    "    t1 = time.time()\n",
    "    jacobi = membrane_jacobi(N, p, d, T, iters)\n",
    "    t2 = time.time()\n",
    "    print('N:',N)\n",
    "    print('iterations:', iters)\n",
    "    print('total error:', ((lapack - jacobi) ** 2).sum())\n",
    "    print('lapack', t1-t0)\n",
    "    sns.heatmap(lapack)\n",
    "    plt.show()\n",
    "    print('jacobi', t2-t1)\n",
    "    sns.heatmap(jacobi)\n",
    "    plt.show()"
   ]
  },
  {
   "cell_type": "markdown",
   "metadata": {},
   "source": [
    "Porównajmy oba solvery:"
   ]
  },
  {
   "cell_type": "code",
   "execution_count": null,
   "metadata": {},
   "outputs": [],
   "source": [
    "interact(\n",
    "    jacobi_iters,\n",
    "    N=IntSlider(min=3, max=100, value=30),\n",
    "    iters=IntSlider(min=1, max=500, value=100)\n",
    ")"
   ]
  },
  {
   "cell_type": "code",
   "execution_count": null,
   "metadata": {},
   "outputs": [],
   "source": [
    "jacobi_csv = 'jacobi.csv'"
   ]
  },
  {
   "cell_type": "code",
   "execution_count": null,
   "metadata": {},
   "outputs": [],
   "source": [
    "# jacobi_df = membrane_performace(membrane_jacobi)\n",
    "# jacobi_df.to_csv(jacobi_csv)"
   ]
  },
  {
   "cell_type": "code",
   "execution_count": null,
   "metadata": {},
   "outputs": [],
   "source": [
    "jacobi_df = pd.read_csv(jacobi_csv)\n",
    "jacobi_df_agg = jacobi_df.groupby('N').agg(['mean', 'std'])['solution_time']\n",
    "jacobi_df_agg"
   ]
  },
  {
   "cell_type": "code",
   "execution_count": null,
   "metadata": {},
   "outputs": [],
   "source": [
    "plt.scatter(jacobi_df_agg['mean'].keys() ** 2, jacobi_df_agg['mean'], color='red')\n",
    "plt.errorbar(jacobi_df_agg['mean'].keys() ** 2, jacobi_df_agg['mean'], yerr=jacobi_df_agg['std'], color='red')\n",
    "\n",
    "plt.scatter(lapack_df_agg['mean'].keys() ** 2, lapack_df_agg['mean'], color='blue')\n",
    "plt.errorbar(lapack_df_agg['mean'].keys() ** 2, lapack_df_agg['mean'], yerr=lapack_df_agg['std'], color='blue')\n",
    "\n",
    "plt.show()"
   ]
  },
  {
   "cell_type": "code",
   "execution_count": null,
   "metadata": {},
   "outputs": [],
   "source": [
    "interact(\n",
    "    disp_complexity,\n",
    "    degree=IntSlider(min=0, max=10),\n",
    "    df_agg=fixed(jacobi_df_agg)\n",
    ")"
   ]
  }
 ],
 "metadata": {
  "kernelspec": {
   "display_name": "Python 3",
   "language": "python",
   "name": "python3"
  },
  "language_info": {
   "codemirror_mode": {
    "name": "ipython",
    "version": 3
   },
   "file_extension": ".py",
   "mimetype": "text/x-python",
   "name": "python",
   "nbconvert_exporter": "python",
   "pygments_lexer": "ipython3",
   "version": "3.6.2"
  }
 },
 "nbformat": 4,
 "nbformat_minor": 2
}
