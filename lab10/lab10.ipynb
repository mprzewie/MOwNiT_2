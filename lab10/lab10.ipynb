{
 "cells": [
  {
   "cell_type": "code",
   "execution_count": null,
   "metadata": {},
   "outputs": [],
   "source": [
    "import numpy as np\n",
    "import matplotlib.pyplot as plt\n",
    "import seaborn as sns\n",
    "import pandas as pd\n",
    "import time\n",
    "\n",
    "from ipywidgets import interact\n",
    "from ipywidgets.widgets import IntSlider"
   ]
  },
  {
   "cell_type": "markdown",
   "metadata": {},
   "source": [
    "Source: http://home.agh.edu.pl/~kzajac/dydakt/mownit/lab10/pde.pdf"
   ]
  },
  {
   "cell_type": "markdown",
   "metadata": {},
   "source": [
    "Membrana w kształcie kwadratu o boku a jest równomiernie obciążona.\n",
    "Membrana znajduje sie w stanie statycznym, a jej brzeg jest sztywno zamocowany i nieodkształcony.\n",
    "Obliczyc odkształcenie membrany od poziomu , zakładając ze spełnia ono\n",
    "równanie Poissona:\n",
    "\n",
    "$$\n",
    "\\frac{\\partial^2M}{\\partial x^2} + \\frac{\\partial^2M}{\\partial y^2} = \\frac{-p}{T}\n",
    "$$\n",
    "\n",
    "Gdzie mamy ustalone parametry:\n",
    "* $p>0$ - ciśnienie wywierane na membrane.\n",
    "* $T$ - napięcie membrany.\n",
    "\n",
    "$m$ - wartość napięcia membrany"
   ]
  },
  {
   "cell_type": "markdown",
   "metadata": {},
   "source": [
    "Oznaczenia:\n",
    "* $N$ := wymiary siatki\n",
    "* $d = \\frac{a}{N-1}$ := odległość między polami na siatce\n",
    "* M := macierz $(N) \\times (N)$ wartości napięcia membrany w danych punktach"
   ]
  },
  {
   "cell_type": "markdown",
   "metadata": {},
   "source": [
    "$$\n",
    "\\frac{\\partial^2 M}{\\partial x^2} = \\frac{M_{i+1,j} - 2 \\cdot M_{ij} + M_{i-1,j} }{d^2}\n",
    "$$\n",
    "\n",
    "$$\n",
    "\\frac{\\partial^2 M}{\\partial y^2} = \\frac{M_{i,j+1} - 2 \\cdot M_{ij} + M_{i,j-1} }{d^2}\n",
    "$$"
   ]
  },
  {
   "cell_type": "markdown",
   "metadata": {},
   "source": [
    "Zapiszmy układ równań różniczkowych:\n",
    "\n",
    "$$\n",
    "\\begin{cases}\n",
    "    \\forall i, j \\in {1..N} : M_{1,j} = M_{N,j} = M_{i,1} = M_{i,N} = 0 \\\\\n",
    "    M_{i+1,j}  + M_{i-1,j} + M_{i,j+1} + M_{i,j-1} - 4 \\cdot M_{ij} = \\dfrac{-p \\cdot d^2}{T}\n",
    "\\end{cases}\n",
    "$$"
   ]
  },
  {
   "cell_type": "markdown",
   "metadata": {},
   "source": [
    "W celu zwektoryzowania siatki M, wprowadźmy wektor $\\theta$:\n",
    "\n",
    "$$\n",
    "M_{ij} = \\theta_{N\\cdot i + j}\n",
    "$$\n",
    "\n",
    "Zauważmy, że dla danego $M{ij} = \\theta_k$\n",
    "$$\n",
    "\\begin{cases}\n",
    "    M_{i-1, j} = \\theta_{k - N} \\\\\n",
    "    M_{i+1, j} = \\theta_{k + N} \\\\\n",
    "    M_{i, j-1} = \\theta_{k-1} \\\\\n",
    "    M_{i, j+1} = \\theta_{k+1}\n",
    "\\end{cases}\n",
    "$$"
   ]
  },
  {
   "cell_type": "markdown",
   "metadata": {},
   "source": [
    "Po przekształceniu:\n",
    "\n",
    "$$\n",
    "\\begin{cases}\n",
    "    \\forall i \\in (1 \\space .. \\space N) : \\theta_i = 0 \n",
    "        \\space\\space\\text{(krawędź górna)}\\\\\n",
    "    \\forall i \\in (1 \\space .. \\space N) : \\theta_{N(N-1) + i} = 0\n",
    "        \\space\\space\\text{(krawędź dolna)}\\\\\n",
    "    \\forall j \\in (0 \\space .. \\space N-1) : \\theta_{Nj + 1} = 0 \n",
    "        \\space\\space\\text{(krawędź lewa)}\\\\\n",
    "    \\forall j \\in (1 \\space .. \\space N) : \\theta_{Nj} = 0\n",
    "        \\space\\space\\text{(krawędź prawa)}\\\\\n",
    "    \\theta_{k-N}  + \\theta_{k+N} + \\theta_{k-1} + \\theta_{k+1} - 4 \\cdot \\theta_{k} = \\dfrac{-p \\cdot d^2}{T}\n",
    "        \\space\\space\\text{(pozostałe punkty)}\\\\\n",
    "\\end{cases}\n",
    "$$\n"
   ]
  },
  {
   "cell_type": "code",
   "execution_count": null,
   "metadata": {},
   "outputs": [],
   "source": [
    "a = 1.0\n",
    "p = 1.0\n",
    "T = 1.0\n",
    "\n",
    "N = 10\n",
    "d = a / (N - 1)\n",
    "\n",
    "a, p, T, N, d\n",
    "NN = N ** 2 # number of datapoints"
   ]
  },
  {
   "cell_type": "markdown",
   "metadata": {},
   "source": [
    "I'll denote indices of edges in order to manipulate them more easily"
   ]
  },
  {
   "cell_type": "code",
   "execution_count": null,
   "metadata": {},
   "outputs": [],
   "source": [
    "def edges(N):\n",
    "    NN = N ** 2\n",
    "    up_edge = np.arange(0,N)\n",
    "    down_edge = np.arange(NN - N, NN)\n",
    "    left_edge = np.arange(N) * N\n",
    "    right_edge = (np.arange(N) + 1) * N - 1\n",
    "    return np.concatenate([up_edge, down_edge, left_edge, right_edge])\n",
    "\n",
    "edges(N)"
   ]
  },
  {
   "cell_type": "markdown",
   "metadata": {},
   "source": [
    "Right-hand vector of results"
   ]
  },
  {
   "cell_type": "code",
   "execution_count": null,
   "metadata": {},
   "outputs": [],
   "source": [
    "def results(N, p, d, T):\n",
    "    NN = N ** 2 \n",
    "    result = np.array([(-p * d ** 2) / T for _ in range(NN)])\n",
    "    result[edges(N)] = 0\n",
    "    return result\n",
    "\n",
    "results(N, p, d, T)"
   ]
  },
  {
   "cell_type": "markdown",
   "metadata": {},
   "source": [
    "Matrix of coefficients:"
   ]
  },
  {
   "cell_type": "code",
   "execution_count": null,
   "metadata": {},
   "outputs": [],
   "source": [
    "def matrix(N):\n",
    "    edg = edges(N)\n",
    "    NN = N ** 2\n",
    "    coeff = np.eye(NN) * -4\n",
    "    coeff[np.arange(1, NN), np.arange(0, NN - 1)] = 1 # elem to the left\n",
    "    coeff[np.arange(0, NN - 1), np.arange(1, NN)] = 1 # elems to the right\n",
    "    coeff[np.arange(N, NN), np.arange(0, NN - N)] = 1 # elems to the up\n",
    "    coeff[np.arange(0, NN - N - 1), np.arange(N, NN - 1)] = 1 # elems to the down\n",
    "    coeff[:, edg] = 0\n",
    "    coeff[edg, edg] = 1\n",
    "    return coeff"
   ]
  },
  {
   "cell_type": "markdown",
   "metadata": {},
   "source": [
    "Thetas:"
   ]
  },
  {
   "cell_type": "code",
   "execution_count": null,
   "metadata": {},
   "outputs": [],
   "source": [
    "def membrane(N, p, d, T):\n",
    "    m = matrix(N)\n",
    "    r = results(N, p, d, T)\n",
    "    thetas = np.linalg.solve(m, r)\n",
    "    return thetas.reshape(N,N)"
   ]
  },
  {
   "cell_type": "code",
   "execution_count": null,
   "metadata": {},
   "outputs": [],
   "source": [
    "m = membrane(N, p, d, T)\n",
    "sns.heatmap(m)"
   ]
  },
  {
   "cell_type": "code",
   "execution_count": null,
   "metadata": {},
   "outputs": [],
   "source": [
    "df = pd.DataFrame(columns=['N', 'solution_time'])\n",
    "Ns = np.arange(3, 104, 10)\n",
    "trials = 10\n",
    "Ns"
   ]
  },
  {
   "cell_type": "code",
   "execution_count": null,
   "metadata": {},
   "outputs": [],
   "source": [
    "for N in Ns:\n",
    "    for t in range(trials):\n",
    "        t1 = time.time()\n",
    "        membrane(N, p, d, T)\n",
    "        t2 = time.time()\n",
    "        t_d = t2 - t1\n",
    "        df = df.append({\n",
    "            'N': N,\n",
    "            'solution_time': t_d\n",
    "                       },\n",
    "        ignore_index=True)    \n",
    "        print('size: ' + str(N) + ', trial: ' + str(t) + \", time: \" + str(t_d), end=\"\\r\")\n"
   ]
  },
  {
   "cell_type": "code",
   "execution_count": null,
   "metadata": {},
   "outputs": [],
   "source": [
    "df_agg = df.groupby('N').mean()\n",
    "df_agg"
   ]
  },
  {
   "cell_type": "code",
   "execution_count": null,
   "metadata": {},
   "outputs": [],
   "source": [
    "plt.scatter(df_agg['solution_time'].keys(), df_agg['solution_time'])\n",
    "plt.show()"
   ]
  },
  {
   "cell_type": "code",
   "execution_count": null,
   "metadata": {},
   "outputs": [],
   "source": [
    "def disp_complexity(degree):\n",
    "    X_b = df_agg['solution_time'].keys()\n",
    "    Y_b = df_agg['solution_time']\n",
    "    p = np.polyfit(X_b, Y_b, degree)\n",
    "    X = np.array([X_b ** i for i in range(degree, -1, -1)]).T\n",
    "    Y = X @ p\n",
    "    print(p)\n",
    "    print(((Y_b - Y) ** 2).sum())\n",
    "    plt.scatter(X_b, Y_b)\n",
    "    plt.plot(X_b, Y)\n",
    "    plt.show()\n",
    "    \n",
    "interact(\n",
    "    disp_complexity,\n",
    "    degree=IntSlider(min=0, max=10)\n",
    ")"
   ]
  },
  {
   "cell_type": "markdown",
   "metadata": {},
   "source": [
    "Looks like $O(n^3)$ complexity. That's ugly!"
   ]
  }
 ],
 "metadata": {
  "kernelspec": {
   "display_name": "Python 3",
   "language": "python",
   "name": "python3"
  },
  "language_info": {
   "codemirror_mode": {
    "name": "ipython",
    "version": 3
   },
   "file_extension": ".py",
   "mimetype": "text/x-python",
   "name": "python",
   "nbconvert_exporter": "python",
   "pygments_lexer": "ipython3",
   "version": "3.6.2"
  }
 },
 "nbformat": 4,
 "nbformat_minor": 2
}
